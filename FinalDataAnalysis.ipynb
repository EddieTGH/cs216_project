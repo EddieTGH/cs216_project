{
 "cells": [
  {
   "cell_type": "markdown",
   "id": "217de34f-b689-4703-8716-9691a3ce09f9",
   "metadata": {},
   "source": [
    "# Import Packages #"
   ]
  },
  {
   "cell_type": "code",
   "execution_count": 1,
   "id": "163402ad-3dcb-4505-91e6-0fe8e9d96cfe",
   "metadata": {},
   "outputs": [
    {
     "name": "stderr",
     "output_type": "stream",
     "text": [
      "/Users/edmondniu/anaconda3/lib/python3.11/site-packages/pandas/core/arrays/masked.py:60: UserWarning: Pandas requires version '1.3.6' or newer of 'bottleneck' (version '1.3.5' currently installed).\n",
      "  from pandas.core import (\n"
     ]
    },
    {
     "name": "stdout",
     "output_type": "stream",
     "text": [
      "1.4.1.post1\n",
      "2.2.1\n"
     ]
    }
   ],
   "source": [
    "import numpy as np\n",
    "import pandas as pd\n",
    "import seaborn as sns\n",
    "import matplotlib.pyplot as plt\n",
    "from sklearn.linear_model import LinearRegression\n",
    "from sklearn.model_selection import train_test_split\n",
    "from sklearn.metrics import mean_squared_error\n",
    "from sklearn.metrics import r2_score\n",
    "from sklearn.dummy import DummyClassifier\n",
    "from sklearn.preprocessing import PolynomialFeatures\n",
    "\n",
    "try:\n",
    "    import sklearn\n",
    "    print(sklearn.__version__)\n",
    "    if (sklearn.__version__ < '1.3.0'): #update for latest scikit-learn version\n",
    "        !pip install -U --user scikit-learn\n",
    "except Exception as e:\n",
    "    !pip install scikit-learn\n",
    "    \n",
    "sns.set_theme()\n",
    "print(pd.__version__)"
   ]
  },
  {
   "cell_type": "markdown",
   "id": "d8ee1ee6-6ebd-4456-9b56-b78b12d32c63",
   "metadata": {},
   "source": [
    "# Import Data / Data Cleaning #"
   ]
  },
  {
   "cell_type": "code",
   "execution_count": 2,
   "id": "c5a2dcc7-1551-4e10-82ef-6c983e2fcea6",
   "metadata": {},
   "outputs": [],
   "source": [
    "#import and clean datasets\n",
    "advanced = pd.read_csv(\"advanced.csv\", header = 1, index_col=1, parse_dates=False).iloc[1:].dropna(axis=1, how='all')\n",
    "per_game = pd.read_csv('per_game.csv', index_col=1, parse_dates=False, dtype={'Road': str})\n",
    "standings = pd.read_csv('standings.csv', header = 1, index_col=1, parse_dates=False, dtype={'Road': str})\n",
    "\n",
    "#remove astericks in team names\n",
    "per_game.index = per_game.index.str.replace(r'\\*', '', regex=True)\n",
    "advanced.index = advanced.index.str.replace(r'\\*', '', regex=True)\n",
    "\n",
    "#merge datasets\n",
    "##TODO: merge datasets for all three\n",
    "##TODO: rename columns in standings dataset. Add conference/division labels to colums\n",
    "merged = pd.concat([standings, per_game, advanced], axis=1, join='outer')"
   ]
  },
  {
   "cell_type": "markdown",
   "id": "4debe90f-d33c-4cdb-8c2f-65fbd538bed4",
   "metadata": {},
   "source": [
    "## 1. Create Win Percentage ##"
   ]
  },
  {
   "cell_type": "code",
   "execution_count": 3,
   "id": "f75c46d2-2506-4b99-8b9b-00d985c2ae0a",
   "metadata": {},
   "outputs": [],
   "source": [
    "merged = merged.drop(merged.index[-1])\n",
    "merged[['Win', 'Loss']] = merged['Overall'].str.split('-', expand=True).astype(int)\n",
    "merged['WinLossPercentage'] = merged['Win']*100/(merged['Loss']+merged['Win'])\n",
    "merged.head(5)\n",
    "merged.loc[merged.index == 'Golden State Warriors', 'Road'] = '11-30'\n",
    "merged.loc[merged.index == 'Houston Rockets', 'Road'] = '8-33'\n",
    "merged.loc[merged.index == 'San Antonio Spurs', 'Road'] = '8-33'\n",
    "merged.loc[merged.index == 'Detroit Pistons', 'Home'] = '9-32'\n",
    "merged.loc[merged.index == 'Detroit Pistons', 'Road'] = '8-33'\n",
    "#merged"
   ]
  },
  {
   "cell_type": "markdown",
   "id": "814dd0b9-f6e4-45a1-9846-5d828819a8d9",
   "metadata": {},
   "source": [
    "## 2. Create Home and Away Win Percentage ##"
   ]
  },
  {
   "cell_type": "code",
   "execution_count": 4,
   "id": "bdd2c96c-b327-4cbe-81d4-eddce4e21c76",
   "metadata": {},
   "outputs": [
    {
     "data": {
      "text/html": [
       "<div>\n",
       "<style scoped>\n",
       "    .dataframe tbody tr th:only-of-type {\n",
       "        vertical-align: middle;\n",
       "    }\n",
       "\n",
       "    .dataframe tbody tr th {\n",
       "        vertical-align: top;\n",
       "    }\n",
       "\n",
       "    .dataframe thead th {\n",
       "        text-align: right;\n",
       "    }\n",
       "</style>\n",
       "<table border=\"1\" class=\"dataframe\">\n",
       "  <thead>\n",
       "    <tr style=\"text-align: right;\">\n",
       "      <th></th>\n",
       "      <th>Rk</th>\n",
       "      <th>Overall</th>\n",
       "      <th>Home</th>\n",
       "      <th>Road</th>\n",
       "      <th>E</th>\n",
       "      <th>W</th>\n",
       "      <th>A</th>\n",
       "      <th>C</th>\n",
       "      <th>SE</th>\n",
       "      <th>NW</th>\n",
       "      <th>...</th>\n",
       "      <th>Win</th>\n",
       "      <th>Loss</th>\n",
       "      <th>WinLossPercentage</th>\n",
       "      <th>Home_win</th>\n",
       "      <th>Home_loss</th>\n",
       "      <th>Away_win</th>\n",
       "      <th>Away_loss</th>\n",
       "      <th>Home_WLP</th>\n",
       "      <th>Away_WLP</th>\n",
       "      <th>3_point_percentage</th>\n",
       "    </tr>\n",
       "    <tr>\n",
       "      <th>Team</th>\n",
       "      <th></th>\n",
       "      <th></th>\n",
       "      <th></th>\n",
       "      <th></th>\n",
       "      <th></th>\n",
       "      <th></th>\n",
       "      <th></th>\n",
       "      <th></th>\n",
       "      <th></th>\n",
       "      <th></th>\n",
       "      <th></th>\n",
       "      <th></th>\n",
       "      <th></th>\n",
       "      <th></th>\n",
       "      <th></th>\n",
       "      <th></th>\n",
       "      <th></th>\n",
       "      <th></th>\n",
       "      <th></th>\n",
       "      <th></th>\n",
       "      <th></th>\n",
       "    </tr>\n",
       "  </thead>\n",
       "  <tbody>\n",
       "    <tr>\n",
       "      <th>Milwaukee Bucks</th>\n",
       "      <td>1.0</td>\n",
       "      <td>58-24</td>\n",
       "      <td>32-9</td>\n",
       "      <td>26-15</td>\n",
       "      <td>35-17</td>\n",
       "      <td>23-7</td>\n",
       "      <td>6-Dec</td>\n",
       "      <td>5-Nov</td>\n",
       "      <td>6-Dec</td>\n",
       "      <td>1-Sep</td>\n",
       "      <td>...</td>\n",
       "      <td>58</td>\n",
       "      <td>24</td>\n",
       "      <td>70.731707</td>\n",
       "      <td>32</td>\n",
       "      <td>9</td>\n",
       "      <td>26</td>\n",
       "      <td>15</td>\n",
       "      <td>78.048780</td>\n",
       "      <td>63.414634</td>\n",
       "      <td>36.8</td>\n",
       "    </tr>\n",
       "    <tr>\n",
       "      <th>Boston Celtics</th>\n",
       "      <td>2.0</td>\n",
       "      <td>57-25</td>\n",
       "      <td>32-9</td>\n",
       "      <td>25-16</td>\n",
       "      <td>34-18</td>\n",
       "      <td>23-7</td>\n",
       "      <td>5-Nov</td>\n",
       "      <td>7-Nov</td>\n",
       "      <td>6-Dec</td>\n",
       "      <td>3-Jul</td>\n",
       "      <td>...</td>\n",
       "      <td>57</td>\n",
       "      <td>25</td>\n",
       "      <td>69.512195</td>\n",
       "      <td>32</td>\n",
       "      <td>9</td>\n",
       "      <td>25</td>\n",
       "      <td>16</td>\n",
       "      <td>78.048780</td>\n",
       "      <td>60.975610</td>\n",
       "      <td>37.7</td>\n",
       "    </tr>\n",
       "    <tr>\n",
       "      <th>Philadelphia 76ers</th>\n",
       "      <td>3.0</td>\n",
       "      <td>54-28</td>\n",
       "      <td>29-12</td>\n",
       "      <td>25-16</td>\n",
       "      <td>34-18</td>\n",
       "      <td>20-10</td>\n",
       "      <td>6-Oct</td>\n",
       "      <td>13-5</td>\n",
       "      <td>7-Nov</td>\n",
       "      <td>3-Jul</td>\n",
       "      <td>...</td>\n",
       "      <td>54</td>\n",
       "      <td>28</td>\n",
       "      <td>65.853659</td>\n",
       "      <td>29</td>\n",
       "      <td>12</td>\n",
       "      <td>25</td>\n",
       "      <td>16</td>\n",
       "      <td>70.731707</td>\n",
       "      <td>60.975610</td>\n",
       "      <td>38.7</td>\n",
       "    </tr>\n",
       "    <tr>\n",
       "      <th>Denver Nuggets</th>\n",
       "      <td>4.0</td>\n",
       "      <td>53-29</td>\n",
       "      <td>34-7</td>\n",
       "      <td>19-22</td>\n",
       "      <td>19-11</td>\n",
       "      <td>34-18</td>\n",
       "      <td>6-Apr</td>\n",
       "      <td>3-Jul</td>\n",
       "      <td>2-Aug</td>\n",
       "      <td>6-Oct</td>\n",
       "      <td>...</td>\n",
       "      <td>53</td>\n",
       "      <td>29</td>\n",
       "      <td>64.634146</td>\n",
       "      <td>34</td>\n",
       "      <td>7</td>\n",
       "      <td>19</td>\n",
       "      <td>22</td>\n",
       "      <td>82.926829</td>\n",
       "      <td>46.341463</td>\n",
       "      <td>37.9</td>\n",
       "    </tr>\n",
       "    <tr>\n",
       "      <th>Cleveland Cavaliers</th>\n",
       "      <td>5.0</td>\n",
       "      <td>51-31</td>\n",
       "      <td>31-10</td>\n",
       "      <td>20-21</td>\n",
       "      <td>34-18</td>\n",
       "      <td>17-13</td>\n",
       "      <td>10-Aug</td>\n",
       "      <td>13-3</td>\n",
       "      <td>13-5</td>\n",
       "      <td>6-Apr</td>\n",
       "      <td>...</td>\n",
       "      <td>51</td>\n",
       "      <td>31</td>\n",
       "      <td>62.195122</td>\n",
       "      <td>31</td>\n",
       "      <td>10</td>\n",
       "      <td>20</td>\n",
       "      <td>21</td>\n",
       "      <td>75.609756</td>\n",
       "      <td>48.780488</td>\n",
       "      <td>36.7</td>\n",
       "    </tr>\n",
       "  </tbody>\n",
       "</table>\n",
       "<p>5 rows × 84 columns</p>\n",
       "</div>"
      ],
      "text/plain": [
       "                      Rk Overall   Home   Road      E      W       A      C  \\\n",
       "Team                                                                          \n",
       "Milwaukee Bucks      1.0   58-24   32-9  26-15  35-17   23-7   6-Dec  5-Nov   \n",
       "Boston Celtics       2.0   57-25   32-9  25-16  34-18   23-7   5-Nov  7-Nov   \n",
       "Philadelphia 76ers   3.0   54-28  29-12  25-16  34-18  20-10   6-Oct   13-5   \n",
       "Denver Nuggets       4.0   53-29   34-7  19-22  19-11  34-18   6-Apr  3-Jul   \n",
       "Cleveland Cavaliers  5.0   51-31  31-10  20-21  34-18  17-13  10-Aug   13-3   \n",
       "\n",
       "                        SE     NW  ... Win Loss WinLossPercentage Home_win  \\\n",
       "Team                               ...                                       \n",
       "Milwaukee Bucks      6-Dec  1-Sep  ...  58   24         70.731707       32   \n",
       "Boston Celtics       6-Dec  3-Jul  ...  57   25         69.512195       32   \n",
       "Philadelphia 76ers   7-Nov  3-Jul  ...  54   28         65.853659       29   \n",
       "Denver Nuggets       2-Aug  6-Oct  ...  53   29         64.634146       34   \n",
       "Cleveland Cavaliers   13-5  6-Apr  ...  51   31         62.195122       31   \n",
       "\n",
       "                    Home_loss Away_win Away_loss   Home_WLP   Away_WLP  \\\n",
       "Team                                                                     \n",
       "Milwaukee Bucks             9       26        15  78.048780  63.414634   \n",
       "Boston Celtics              9       25        16  78.048780  60.975610   \n",
       "Philadelphia 76ers         12       25        16  70.731707  60.975610   \n",
       "Denver Nuggets              7       19        22  82.926829  46.341463   \n",
       "Cleveland Cavaliers        10       20        21  75.609756  48.780488   \n",
       "\n",
       "                    3_point_percentage  \n",
       "Team                                    \n",
       "Milwaukee Bucks                   36.8  \n",
       "Boston Celtics                    37.7  \n",
       "Philadelphia 76ers                38.7  \n",
       "Denver Nuggets                    37.9  \n",
       "Cleveland Cavaliers               36.7  \n",
       "\n",
       "[5 rows x 84 columns]"
      ]
     },
     "execution_count": 4,
     "metadata": {},
     "output_type": "execute_result"
    }
   ],
   "source": [
    "merged[['Home_win', 'Home_loss']] = merged['Home'].str.split('-', expand=True).astype(int)\n",
    "merged[['Away_win', 'Away_loss']] = merged['Road'].str.split('-', expand=True).astype(int)\n",
    "merged['Home_WLP'] = merged['Home_win']*100/(merged['Home_win'] + merged['Home_loss'])\n",
    "merged['Away_WLP'] = merged['Away_win']*100/(merged['Away_win'] + merged['Away_loss'])\n",
    "merged['3_point_percentage'] = merged['3P%']*100\n",
    "merged.head(5)"
   ]
  },
  {
   "cell_type": "markdown",
   "id": "db2a4b32-2984-4d63-b138-6400cb0d52a4",
   "metadata": {},
   "source": [
    "# Question 1 #\n",
    "#### Q: The NBA has seen an increasing number of 3-pointers per game being attempted. Given this increase, we want to investigate whether teams should work on their accuracy of making 3 point shots. Is a higher 3-point field goal percentage correlated with a higher win rate for NBA basketball teams?\n",
    "\n",
    "##### A: A greater 3-point field goal percentage affects the win odds for teams in an individual game."
   ]
  },
  {
   "cell_type": "code",
   "execution_count": 5,
   "id": "39a54d62-15a0-4c7f-8f67-9b9251b0a95e",
   "metadata": {},
   "outputs": [
    {
     "name": "stdout",
     "output_type": "stream",
     "text": [
      "RMSE: 6.462901457526928\n",
      "R-squared: 0.5649400054851862\n",
      "Coefficient: 4.895390751774447\n",
      "Intercept: -126.0329827777706\n",
      "Predicted win percentage for a 3-point percentage of 35%: 45.305693534335035\n"
     ]
    },
    {
     "name": "stderr",
     "output_type": "stream",
     "text": [
      "/Users/edmondniu/anaconda3/lib/python3.11/site-packages/sklearn/base.py:493: UserWarning: X does not have valid feature names, but LinearRegression was fitted with feature names\n",
      "  warnings.warn(\n"
     ]
    }
   ],
   "source": [
    "data = merged\n",
    "\n",
    "# Step 2: Prepare the data\n",
    "X = data[['3_point_percentage']]  # Predictor variable (reshape for a single feature)\n",
    "y = data['WinLossPercentage']  # Response variable\n",
    "\n",
    "# Split the data into training and testing sets (80% train, 20% test)\n",
    "X_train, X_test, y_train, y_test = train_test_split(X, y, test_size=0.2, random_state=42)\n",
    "\n",
    "# Step 3: Create the model\n",
    "model = LinearRegression()\n",
    "\n",
    "# Step 4: Train the model\n",
    "model.fit(X_train, y_train)\n",
    "\n",
    "# Step 5: Evaluate the model\n",
    "predictions = model.predict(X_test)\n",
    "mse = mean_squared_error(y_test, predictions)\n",
    "rmse = np.sqrt(mse)\n",
    "r2 = r2_score(y_test, predictions)  # This is how you calculate R-squared\n",
    "print(f\"RMSE: {rmse}\")\n",
    "print(f\"R-squared: {r2}\")  # Print the R-squared value\n",
    "\n",
    "\n",
    "# Coefficients and Intercept\n",
    "print(f\"Coefficient: {model.coef_[0]}\")\n",
    "print(f\"Intercept: {model.intercept_}\")\n",
    "\n",
    "# Predicting with a new 3P% value\n",
    "new_3P = np.array([[35]])  # Example 3P% value\n",
    "predicted_pts = model.predict(new_3P)\n",
    "print(f\"Predicted win percentage for a 3-point percentage of 35%: {predicted_pts[0]}\")"
   ]
  },
  {
   "cell_type": "code",
   "execution_count": 6,
   "id": "46db4ccc-cb60-4e53-ae78-a8e5cb1d1bcf",
   "metadata": {},
   "outputs": [
    {
     "data": {
      "image/png": "[encoded data removed]",
      "text/plain": [
       "<Figure size 640x480 with 1 Axes>"
      ]
     },
     "metadata": {},
     "output_type": "display_data"
    }
   ],
   "source": [
    "# Your code for preparing data and training the model goes here\n",
    "\n",
    "# Plotting\n",
    "sns.regplot(x='3_point_percentage', y='WinLossPercentage', data=data, scatter_kws={'alpha':0.5}, line_kws={'color':'red'})\n",
    "\n",
    "# Scatter plot of the actual test data\n",
    "plt.scatter(X_test, y_test, color='blue', alpha=0.2, label='Actual Test Data')\n",
    "\n",
    "# Plotting the regression line with the predicted values for the test set\n",
    "plt.plot(X_test, predictions, color='purple', label=\"Our Model's Regression Line\")\n",
    "\n",
    "# Annotations\n",
    "plt.title('Win Rate Percentage vs 3 Point Percentage for NBA Basketball Teams ')\n",
    "plt.xlabel('3 Point Percentage')\n",
    "plt.ylabel('Win Rate Percentage')\n",
    "plt.legend()\n",
    "plt.show()"
   ]
  },
  {
   "cell_type": "markdown",
   "id": "aa651980-080a-41d3-80eb-7d59f93d5c56",
   "metadata": {},
   "source": [
    "# Question 2: \n",
    "#### Q: Are NBA basketball teams more likely to win basketball games at “home” or “away”? Is there such a thing as “home-field advantage”?\n",
    "\n",
    "##### A: Home field advantage has a significant effect on the win-rate of NBA teams (11-21% increase in win rate at home-field)\n"
   ]
  },
  {
   "cell_type": "markdown",
   "id": "dbb74679-c429-46b3-8396-c70841d70377",
   "metadata": {},
   "source": [
    "### 1. Hypothesis Test ###\n",
    "\n",
    "1. Null Hypothesis: There is no difference in win percentage of games played at home vs away for NBA basketball teams in the 2022-2023 season.\n",
    "2. Alternate Hypothesis: There is a discernible difference in win percentage of games played at home vs away for NBA basketball teams in the 2022-2023 season.\n",
    "3. P-value = 0.0000435. Fail to reject the null hypothesis. There is convincing evidence that there is a discernible difference in win percentage of games played at home vs away for NBA basketball teams in the 2022-2023 season."
   ]
  },
  {
   "cell_type": "code",
   "execution_count": 7,
   "id": "9fdc8cbe-b614-4438-a2db-02c62de78f53",
   "metadata": {},
   "outputs": [
    {
     "data": {
      "text/plain": [
       "TtestResult(statistic=4.422537243822545, pvalue=4.3475370182099444e-05, df=58.0)"
      ]
     },
     "execution_count": 7,
     "metadata": {},
     "output_type": "execute_result"
    }
   ],
   "source": [
    "from scipy import stats\n",
    "\n",
    "homeWLP = merged['Home_WLP']\n",
    "awayWLP = merged['Away_WLP']\n",
    "\n",
    "hWLP_aWLP = (merged['Home_WLP'] - merged['Away_WLP'])\n",
    "hWLP_aWLP_list = hWLP_aWLP.tolist()\n",
    "\n",
    "stats.ttest_ind(homeWLP.tolist(), awayWLP.tolist())"
   ]
  },
  {
   "cell_type": "markdown",
   "id": "eee57f3b-3870-44b1-a21b-8d26610b05b4",
   "metadata": {},
   "source": [
    "### 2. Bootstrap ####\n",
    "#####\n",
    "1. We can be 95% confident that the true win percentage of away games of NBA basketball teams in the 2022-2023 season is between 38% and 46% \n",
    "2. We can be 95% confident that the true win percentage of home games of NBA basketball teams in the 2022-2023 season is between 53% and 64%\n",
    "#####\n"
   ]
  },
  {
   "cell_type": "code",
   "execution_count": 8,
   "id": "41c8200c-0909-4c83-bd97-b24d594b4012",
   "metadata": {},
   "outputs": [
    {
     "name": "stdout",
     "output_type": "stream",
     "text": [
      "95% Confidence Interval (Away Games): (37.72357723577236, 46.34146341463415)\n",
      "95% Confidence Interval (Home Games): (52.52032520325203, 63.57723577235772)\n"
     ]
    },
    {
     "data": {
      "image/png": "[encoded data removed]",
      "text/plain": [
       "<Figure size 1800x600 with 1 Axes>"
      ]
     },
     "metadata": {},
     "output_type": "display_data"
    }
   ],
   "source": [
    "import numpy as np\n",
    "import pandas as pd\n",
    "import seaborn as sns\n",
    "import matplotlib.pyplot as plt\n",
    "\n",
    "# Assuming awayWLP and homeWLP are defined and contain the away and home win percentage data respectively\n",
    "\n",
    "# Set the seed for reproducibility\n",
    "np.random.seed(10)\n",
    "\n",
    "# For away win percentage\n",
    "sample_away = awayWLP.values\n",
    "bootstrap_samples_away = np.random.choice(sample_away, size=(10000, len(sample_away)), replace=True)\n",
    "sampling_means_away = np.average(bootstrap_samples_away, axis=1)\n",
    "\n",
    "# For home win percentage\n",
    "sample_home = homeWLP.values\n",
    "bootstrap_samples_home = np.random.choice(sample_home, size=(10000, len(sample_home)), replace=True)\n",
    "sampling_means_home = np.average(bootstrap_samples_home, axis=1)\n",
    "\n",
    "# Create Series from the means\n",
    "sampling_means_series_away = pd.Series(sampling_means_away)\n",
    "sampling_means_series_home = pd.Series(sampling_means_home)\n",
    "\n",
    "plt.figure(figsize=(18, 6))  # Width is 18 inches and height is 6 inches\n",
    "\n",
    "# Plot the distributions\n",
    "sns.histplot(sampling_means_series_away, kde=True, color='skyblue', label='Away Win Percentage')\n",
    "sns.histplot(sampling_means_series_home, kde=True, color='orange', label='Home Win Percentage')\n",
    "\n",
    "# Confidence intervals for away\n",
    "bootstrap_ci_l_away = np.percentile(sampling_means_away, 2.5)\n",
    "bootstrap_ci_r_away = np.percentile(sampling_means_away, 97.5)\n",
    "bootstrap_ci_away = tuple([bootstrap_ci_l_away, bootstrap_ci_r_away])\n",
    "print(\"95% Confidence Interval (Away Games): \" + str(bootstrap_ci_away))\n",
    "\n",
    "# Confidence intervals for home\n",
    "bootstrap_ci_l_home = np.percentile(sampling_means_home, 2.5)\n",
    "bootstrap_ci_r_home = np.percentile(sampling_means_home, 97.5)\n",
    "bootstrap_ci_home = tuple([bootstrap_ci_l_home, bootstrap_ci_r_home])\n",
    "print(\"95% Confidence Interval (Home Games): \" + str(bootstrap_ci_home))\n",
    "\n",
    "\n",
    "# Add CI lines for away\n",
    "plt.axvline(bootstrap_ci_l_away, color='blue', linestyle='--', label='Away 2.5th percentile: 38%')\n",
    "plt.axvline(bootstrap_ci_r_away, color='blue', linestyle='--', label='Away 97.5th percentile: 46%')\n",
    "\n",
    "# Add CI lines for home\n",
    "plt.axvline(bootstrap_ci_l_home, color='darkorange', linestyle='--', label='Home 2.5th percentile: 53%')\n",
    "plt.axvline(bootstrap_ci_r_home, color='darkorange', linestyle='--', label='Home 97.5th percentile: 64%')\n",
    "\n",
    "# Add legend and labels\n",
    "plt.legend()\n",
    "plt.xlabel('Win Percentage')\n",
    "plt.ylabel('Frequency')\n",
    "plt.title('Bootstrap Distribution of Win Percentages for Home and Away Games with 95% CIs')\n",
    "\n",
    "# Show the plot with both distributions\n",
    "plt.show()\n"
   ]
  },
  {
   "cell_type": "markdown",
   "id": "3fdb4f73-7d80-4d17-85d7-be528a25c885",
   "metadata": {},
   "source": [
    "# Question 3\n",
    "#### Q: How do other team-related performance ratings (offensive ratings, defensive ratings, turnover percentage, etc.) affect the outcome of an NBA basketball game? \n",
    "\n",
    "##### A: A team's Simple Rating Score (SRS) and Net Rating (NRtg: Offensive + Defensive Rating combined) affect the outcome the game."
   ]
  },
  {
   "cell_type": "markdown",
   "id": "1ed5494b-7f70-4959-af6d-8c4c2d7a0695",
   "metadata": {},
   "source": [
    "### Random Forest SRS NRTG with 5-fold cross validation ###\n",
    "##### Best Parameters: {'max_depth': None, 'min_samples_leaf': 2, 'min_samples_split': 2, 'n_estimators': 50}\n",
    "##### RMSE: 0.10574056628191948"
   ]
  },
  {
   "cell_type": "code",
   "execution_count": 9,
   "id": "ba1cb22b-86ec-43c5-9ec2-94f8bd4223f8",
   "metadata": {},
   "outputs": [
    {
     "name": "stdout",
     "output_type": "stream",
     "text": [
      "Fitting 5 folds for each of 108 candidates, totalling 540 fits\n"
     ]
    },
    {
     "name": "stderr",
     "output_type": "stream",
     "text": [
      "/Users/edmondniu/anaconda3/lib/python3.11/site-packages/pandas/core/arrays/masked.py:60: UserWarning: Pandas requires version '1.3.6' or newer of 'bottleneck' (version '1.3.5' currently installed).\n",
      "  from pandas.core import (\n",
      "/Users/edmondniu/anaconda3/lib/python3.11/site-packages/pandas/core/arrays/masked.py:60: UserWarning: Pandas requires version '1.3.6' or newer of 'bottleneck' (version '1.3.5' currently installed).\n",
      "  from pandas.core import (\n",
      "/Users/edmondniu/anaconda3/lib/python3.11/site-packages/pandas/core/arrays/masked.py:60: UserWarning: Pandas requires version '1.3.6' or newer of 'bottleneck' (version '1.3.5' currently installed).\n",
      "  from pandas.core import (\n",
      "/Users/edmondniu/anaconda3/lib/python3.11/site-packages/pandas/core/arrays/masked.py:60: UserWarning: Pandas requires version '1.3.6' or newer of 'bottleneck' (version '1.3.5' currently installed).\n",
      "  from pandas.core import (\n",
      "/Users/edmondniu/anaconda3/lib/python3.11/site-packages/pandas/core/arrays/masked.py:60: UserWarning: Pandas requires version '1.3.6' or newer of 'bottleneck' (version '1.3.5' currently installed).\n",
      "  from pandas.core import (\n",
      "/Users/edmondniu/anaconda3/lib/python3.11/site-packages/pandas/core/arrays/masked.py:60: UserWarning: Pandas requires version '1.3.6' or newer of 'bottleneck' (version '1.3.5' currently installed).\n",
      "  from pandas.core import (\n",
      "/Users/edmondniu/anaconda3/lib/python3.11/site-packages/pandas/core/arrays/masked.py:60: UserWarning: Pandas requires version '1.3.6' or newer of 'bottleneck' (version '1.3.5' currently installed).\n",
      "  from pandas.core import (\n",
      "/Users/edmondniu/anaconda3/lib/python3.11/site-packages/pandas/core/arrays/masked.py:60: UserWarning: Pandas requires version '1.3.6' or newer of 'bottleneck' (version '1.3.5' currently installed).\n",
      "  from pandas.core import (\n"
     ]
    },
    {
     "name": "stdout",
     "output_type": "stream",
     "text": [
      "Best Parameters: {'max_depth': None, 'min_samples_leaf': 1, 'min_samples_split': 2, 'n_estimators': 200}\n",
      "RMSE: 2.9214561536847032\n",
      "R squared: 0.9111018287435437\n",
      "Feature Importances: [0.54009429 0.45990571]\n"
     ]
    }
   ],
   "source": [
    "from sklearn.ensemble import RandomForestRegressor\n",
    "from sklearn.model_selection import train_test_split, GridSearchCV\n",
    "from sklearn.metrics import mean_squared_error\n",
    "\n",
    "data = merged  # assuming 'merged' is your DataFrame\n",
    "\n",
    "# Prepare the data\n",
    "X = data[['SRS', 'NRtg']]  # Predictor variables\n",
    "y = data['WinLossPercentage']  # Response variable\n",
    "\n",
    "# Split data\n",
    "X_train, X_test, y_train, y_test = train_test_split(X, y, test_size=0.2, random_state=42)\n",
    "\n",
    "# Define the model\n",
    "rf = RandomForestRegressor(random_state=42)\n",
    "\n",
    "# Set up the parameter grid\n",
    "param_grid = {\n",
    "    'n_estimators': [50, 100, 200],  # number of trees in the forest\n",
    "    'max_depth': [None, 10, 20, 30],  # maximum depth of the tree\n",
    "    'min_samples_split': [2, 5, 10],  # minimum number of samples required to split an internal node\n",
    "    'min_samples_leaf': [1, 2, 4]  # minimum number of samples required to be at a leaf node\n",
    "}\n",
    "\n",
    "# Create GridSearchCV object\n",
    "grid_search = GridSearchCV(estimator=rf, param_grid=param_grid, cv=5, scoring='r2', verbose=2, n_jobs=-1)\n",
    "\n",
    "# Fit GridSearchCV\n",
    "grid_search.fit(X_train, y_train)\n",
    "\n",
    "# Get the best model\n",
    "best_rf = grid_search.best_estimator_\n",
    "\n",
    "# Make predictions with the best model\n",
    "predictions = best_rf.predict(X_test)\n",
    "\n",
    "# Evaluate the best model\n",
    "mse = mean_squared_error(y_test, predictions)\n",
    "rmse = np.sqrt(mse)\n",
    "\n",
    "print(f\"Best Parameters: {grid_search.best_params_}\")\n",
    "print(f\"RMSE: {rmse}\")\n",
    "\n",
    "r2 = r2_score(y_test, predictions)\n",
    "print(f\"R squared: {r2}\")\n",
    "\n",
    "# Get feature importance\n",
    "importances = best_rf.feature_importances_\n",
    "print(f\"Feature Importances: {importances}\")"
   ]
  },
  {
   "cell_type": "code",
   "execution_count": null,
   "id": "03f2b0a3-a3b0-4ac3-a38b-cf4ff2e677e9",
   "metadata": {},
   "outputs": [],
   "source": []
  },
  {
   "cell_type": "code",
   "execution_count": null,
   "id": "c1f042fa-7f1d-4345-a8d4-4158ff31a569",
   "metadata": {},
   "outputs": [],
   "source": []
  },
  {
   "cell_type": "code",
   "execution_count": null,
   "id": "20556191-509d-480d-b41f-d1d78b03204c",
   "metadata": {},
   "outputs": [],
   "source": []
  },
  {
   "cell_type": "code",
   "execution_count": null,
   "id": "639dc5f8-065d-4614-a81a-e64890aa2f61",
   "metadata": {},
   "outputs": [],
   "source": []
  },
  {
   "cell_type": "code",
   "execution_count": null,
   "id": "0f650c27-3f12-4012-a1ae-21068251088a",
   "metadata": {},
   "outputs": [],
   "source": []
  },
  {
   "cell_type": "code",
   "execution_count": null,
   "id": "79be5f29-5368-4b76-8c9c-c7c4248ab487",
   "metadata": {},
   "outputs": [],
   "source": []
  },
  {
   "cell_type": "code",
   "execution_count": null,
   "id": "301bd723-6de8-4bcc-9d8d-883109a6ba12",
   "metadata": {},
   "outputs": [],
   "source": []
  },
  {
   "cell_type": "code",
   "execution_count": null,
   "id": "33f4dd06-f9e0-4289-abbb-ea6ae47172ea",
   "metadata": {},
   "outputs": [],
   "source": []
  },
  {
   "cell_type": "code",
   "execution_count": null,
   "id": "5f86bf3d-def4-48b5-989d-883322138b69",
   "metadata": {},
   "outputs": [],
   "source": []
  },
  {
   "cell_type": "code",
   "execution_count": null,
   "id": "859e19f8-110d-4f1f-a6d5-7d37e4de38cf",
   "metadata": {},
   "outputs": [],
   "source": []
  },
  {
   "cell_type": "code",
   "execution_count": null,
   "id": "e0573f68-fa50-426a-ab04-5563b7c3529f",
   "metadata": {},
   "outputs": [],
   "source": []
  },
  {
   "cell_type": "code",
   "execution_count": null,
   "id": "b415269e-1dde-4910-b7e9-b1534ac2f40a",
   "metadata": {},
   "outputs": [],
   "source": []
  },
  {
   "cell_type": "code",
   "execution_count": null,
   "id": "6fbb35c1-0ca0-457b-af79-a64a7ce2df22",
   "metadata": {},
   "outputs": [],
   "source": []
  },
  {
   "cell_type": "code",
   "execution_count": null,
   "id": "35fb4f43-ee9b-460a-93bc-5bdee7e9098a",
   "metadata": {},
   "outputs": [],
   "source": []
  },
  {
   "cell_type": "markdown",
   "id": "ab68272b-ed42-4137-bcb7-f23716b9cb94",
   "metadata": {},
   "source": [
    "### Top 3 Rsquared ###"
   ]
  },
  {
   "cell_type": "code",
   "execution_count": 10,
   "id": "53c97542-70b8-4677-bdd9-e5cc74ceb781",
   "metadata": {},
   "outputs": [
    {
     "name": "stdout",
     "output_type": "stream",
     "text": [
      "RMSE: 3.470349552882498\n",
      "R-squared: 0.8745587061312551\n",
      "Coefficient: -0.1452640548153662\n",
      "Intercept: 67.06025139421207\n"
     ]
    }
   ],
   "source": [
    "data = merged\n",
    "\n",
    "# Step 2: Prepare the data\n",
    "X = data[['DRtg', 'SRS', 'NRtg']]  # Predictor variable (reshape for a single feature)\n",
    "y = data['WinLossPercentage']  # Response variable\n",
    "poly_X = PolynomialFeatures(1, include_bias=False).fit_transform(X)\n",
    "\n",
    "# Split the data into training and testing sets (80% train, 20% test)\n",
    "X_train, X_test, y_train, y_test = train_test_split(poly_X, y, test_size=0.2, random_state=42)\n",
    "\n",
    "# Step 3: Create the model\n",
    "model = LinearRegression()\n",
    "\n",
    "# Step 4: Train the model\n",
    "model.fit(X_train, y_train)\n",
    "\n",
    "# Step 5: Evaluate the model\n",
    "predictions = model.predict(X_test)\n",
    "mse = mean_squared_error(y_test, predictions)\n",
    "rmse = np.sqrt(mse)\n",
    "r2 = r2_score(y_test, predictions)  # This is how you calculate R-squared\n",
    "print(f\"RMSE: {rmse}\")\n",
    "print(f\"R-squared: {r2}\")  # Print the R-squared value\n",
    "\n",
    "\n",
    "# Coefficients and Intercept\n",
    "print(f\"Coefficient: {model.coef_[0]}\")\n",
    "print(f\"Intercept: {model.intercept_}\")\n",
    "\n",
    "# Predicting with a new 3P% value\n",
    "#off_def = np.array([[118.0,111.5]])  # Example 3P% value\n",
    "#off_def = PolynomialFeatures(3, include_bias=False).fit_transform(off_def)\n",
    "#predicted_pts = model.predict(off_def)\n",
    "#print(f\"Predicted Win/Loss Percent for offense: 118, defense: 111.5: {predicted_pts[0]}\")"
   ]
  },
  {
   "cell_type": "markdown",
   "id": "32493b1a-945e-4b8f-bea2-3ea07db2466a",
   "metadata": {},
   "source": [
    "### Top 3 with k fold cross validation ###"
   ]
  },
  {
   "cell_type": "code",
   "execution_count": 11,
   "id": "9b24a05b-7884-4adf-82e0-0e04271747a1",
   "metadata": {},
   "outputs": [
    {
     "name": "stdout",
     "output_type": "stream",
     "text": [
      "Cross-validated R^2 scores: [-2.93348588  0.18951137 -5.6888261  -1.84595255  0.57143211]\n",
      "Average R^2 score: -1.9414642083286737\n",
      "Standard deviation of R^2 scores: 2.275594666140586\n"
     ]
    }
   ],
   "source": [
    "from sklearn.model_selection import cross_val_score\n",
    "from sklearn.linear_model import LinearRegression\n",
    "from sklearn.preprocessing import PolynomialFeatures\n",
    "from sklearn.model_selection import train_test_split\n",
    "import numpy as np\n",
    "\n",
    "# Load your data - replace this with your actual data loading step\n",
    "data = merged\n",
    "\n",
    "# Define predictor and response variables\n",
    "X = data[['DRtg', 'SRS', 'NRtg']]\n",
    "y = data['WinLossPercentage']\n",
    "\n",
    "# Apply polynomial transformation if needed\n",
    "poly = PolynomialFeatures(1, include_bias=False)\n",
    "poly_X = poly.fit_transform(X)\n",
    "\n",
    "model = LinearRegression()\n",
    "\n",
    "# Perform 5-fold cross-validation\n",
    "scores = cross_val_score(model, poly_X, y, cv=5, scoring='r2')  # Use R^2 as the scoring method\n",
    "\n",
    "print(\"Cross-validated R^2 scores:\", scores)\n",
    "print(\"Average R^2 score:\", np.mean(scores))\n",
    "print(\"Standard deviation of R^2 scores:\", np.std(scores))"
   ]
  },
  {
   "cell_type": "markdown",
   "id": "bd6d49d0-129a-45d3-b9c8-af64a9f8c978",
   "metadata": {},
   "source": [
    "### Defensive Rating only R-squared: 0.41 ###"
   ]
  },
  {
   "cell_type": "code",
   "execution_count": 12,
   "id": "de12aa62-dd32-453a-ba84-c0801ec4479a",
   "metadata": {},
   "outputs": [
    {
     "name": "stdout",
     "output_type": "stream",
     "text": [
      "RMSE: 5.2673932206499305\n",
      "R-squared: 0.711008171595721\n",
      "Coefficient: -3.8491166289841754\n",
      "Intercept: 492.6915971374646\n",
      "Predicted Win/Loss Percent for defense: 111.5: 63.51509300572906\n"
     ]
    },
    {
     "name": "stderr",
     "output_type": "stream",
     "text": [
      "/Users/edmondniu/anaconda3/lib/python3.11/site-packages/sklearn/base.py:493: UserWarning: X does not have valid feature names, but LinearRegression was fitted with feature names\n",
      "  warnings.warn(\n"
     ]
    }
   ],
   "source": [
    "data = merged\n",
    "\n",
    "# Step 2: Prepare the data\n",
    "X = data[['DRtg']]  # Predictor variable (reshape for a single feature)\n",
    "y = data['WinLossPercentage']  # Response variable\n",
    "\n",
    "# Split the data into training and testing sets (80% train, 20% test)\n",
    "X_train, X_test, y_train, y_test = train_test_split(X, y, test_size=0.2, random_state=42)\n",
    "\n",
    "# Step 3: Create the model\n",
    "model = LinearRegression()\n",
    "\n",
    "# Step 4: Train the model\n",
    "model.fit(X_train, y_train)\n",
    "\n",
    "# Step 5: Evaluate the model\n",
    "predictions = model.predict(X_test)\n",
    "mse = mean_squared_error(y_test, predictions)\n",
    "rmse = np.sqrt(mse)\n",
    "r2 = r2_score(y_test, predictions)  # This is how you calculate R-squared\n",
    "print(f\"RMSE: {rmse}\")\n",
    "print(f\"R-squared: {r2}\")  # Print the R-squared value\n",
    "\n",
    "\n",
    "# Coefficients and Intercept\n",
    "print(f\"Coefficient: {model.coef_[0]}\")\n",
    "print(f\"Intercept: {model.intercept_}\")\n",
    "\n",
    "# Predicting with a new 3P% value\n",
    "off_def = np.array([[111.5]])  # Example 3P% value\n",
    "predicted_pts = model.predict(off_def)\n",
    "print(f\"Predicted Win/Loss Percent for defense: 111.5: {predicted_pts[0]}\")"
   ]
  },
  {
   "cell_type": "markdown",
   "id": "110f1de1-4f0c-4d44-b545-ad052ce30f4c",
   "metadata": {},
   "source": [
    "### Offensive Rating only: R-squared: -0.144 ###"
   ]
  },
  {
   "cell_type": "code",
   "execution_count": 13,
   "id": "52848bb0-c4f7-48c8-9f11-e322be9aa1fd",
   "metadata": {},
   "outputs": [
    {
     "name": "stdout",
     "output_type": "stream",
     "text": [
      "RMSE: 5.695905088802006\n",
      "R-squared: 0.662075585613555\n",
      "Coefficient: 3.736501079913609\n",
      "Intercept: -378.6355159879895\n"
     ]
    }
   ],
   "source": [
    "data = merged\n",
    "\n",
    "# Step 2: Prepare the data\n",
    "X = data[['ORtg']]  # Predictor variable (reshape for a single feature)\n",
    "y = data['WinLossPercentage']  # Response variable\n",
    "poly_X = PolynomialFeatures(1, include_bias=False).fit_transform(X)\n",
    "\n",
    "# Split the data into training and testing sets (80% train, 20% test)\n",
    "X_train, X_test, y_train, y_test = train_test_split(poly_X, y, test_size=0.2, random_state=42)\n",
    "\n",
    "# Step 3: Create the model\n",
    "model = LinearRegression()\n",
    "\n",
    "# Step 4: Train the model\n",
    "model.fit(X_train, y_train)\n",
    "\n",
    "# Step 5: Evaluate the model\n",
    "predictions = model.predict(X_test)\n",
    "mse = mean_squared_error(y_test, predictions)\n",
    "rmse = np.sqrt(mse)\n",
    "r2 = r2_score(y_test, predictions)  # This is how you calculate R-squared\n",
    "print(f\"RMSE: {rmse}\")\n",
    "print(f\"R-squared: {r2}\")  # Print the R-squared value\n",
    "\n",
    "\n",
    "# Coefficients and Intercept\n",
    "print(f\"Coefficient: {model.coef_[0]}\")\n",
    "print(f\"Intercept: {model.intercept_}\")\n",
    "\n",
    "# Predicting with a new 3P% value\n",
    "#off_def = np.array([[118.0]])  # Example 3P% value\n",
    "#predicted_pts = model.predict(off_def)\n",
    "#print(f\"Predicted Win/Loss Percent for offensive: 118.0: {predicted_pts[0]}\")"
   ]
  },
  {
   "cell_type": "markdown",
   "id": "70b45909-9cb3-4201-946e-6d581b70a3d5",
   "metadata": {},
   "source": [
    "### Offensive and Defensive Rating R-squared: 0.44 ###"
   ]
  },
  {
   "cell_type": "code",
   "execution_count": 14,
   "id": "50e4bf30-3db8-4bee-85e6-da76f1feab46",
   "metadata": {},
   "outputs": [
    {
     "name": "stdout",
     "output_type": "stream",
     "text": [
      "RMSE: 3.4641417233872827\n",
      "R-squared: 0.8750070884391242\n",
      "Coefficient: 2.9042983711848365\n",
      "Intercept: 61.26923225822913\n",
      "Predicted Win/Loss Percent for offense: 118, defense: 111.5: 69.61541011976836\n"
     ]
    }
   ],
   "source": [
    "data = merged\n",
    "\n",
    "# Step 2: Prepare the data\n",
    "X = data[['ORtg', 'DRtg']]  # Predictor variable (reshape for a single feature)\n",
    "y = data['WinLossPercentage']  # Response variable\n",
    "poly_X = PolynomialFeatures(1, include_bias=False).fit_transform(X)\n",
    "\n",
    "# Split the data into training and testing sets (80% train, 20% test)\n",
    "X_train, X_test, y_train, y_test = train_test_split(poly_X, y, test_size=0.2, random_state=42)\n",
    "\n",
    "# Step 3: Create the model\n",
    "model = LinearRegression()\n",
    "\n",
    "# Step 4: Train the model\n",
    "model.fit(X_train, y_train)\n",
    "\n",
    "# Step 5: Evaluate the model\n",
    "predictions = model.predict(X_test)\n",
    "mse = mean_squared_error(y_test, predictions)\n",
    "rmse = np.sqrt(mse)\n",
    "r2 = r2_score(y_test, predictions)  # This is how you calculate R-squared\n",
    "print(f\"RMSE: {rmse}\")\n",
    "print(f\"R-squared: {r2}\")  # Print the R-squared value\n",
    "\n",
    "\n",
    "# Coefficients and Intercept\n",
    "print(f\"Coefficient: {model.coef_[0]}\")\n",
    "print(f\"Intercept: {model.intercept_}\")\n",
    "\n",
    "# Predicting with a new 3P% value\n",
    "off_def = np.array([[118.0,111.5]])  # Example 3P% value\n",
    "#off_def = PolynomialFeatures(3, include_bias=False).fit_transform(off_def)\n",
    "predicted_pts = model.predict(off_def)\n",
    "print(f\"Predicted Win/Loss Percent for offense: 118, defense: 111.5: {predicted_pts[0]}\")"
   ]
  },
  {
   "cell_type": "markdown",
   "id": "24894a4a-29d6-4459-8f5a-da2834921afa",
   "metadata": {},
   "source": [
    "### SRS R-squared: 0.49 ###"
   ]
  },
  {
   "cell_type": "code",
   "execution_count": 15,
   "id": "4df84ed0-58eb-499b-b62a-106c8ae639b0",
   "metadata": {},
   "outputs": [
    {
     "name": "stdout",
     "output_type": "stream",
     "text": [
      "RMSE: 3.4996355679399564\n",
      "R-squared: 0.8724325937619011\n",
      "Coefficient: 3.0346749440600944\n",
      "Intercept: 50.51586287514208\n"
     ]
    }
   ],
   "source": [
    "data = merged\n",
    "\n",
    "# Step 2: Prepare the data\n",
    "X = data[['SRS']]  # Predictor variable (reshape for a single feature)\n",
    "y = data['WinLossPercentage']  # Response variable\n",
    "poly_X = PolynomialFeatures(1, include_bias=False).fit_transform(X)\n",
    "\n",
    "# Split the data into training and testing sets (80% train, 20% test)\n",
    "X_train, X_test, y_train, y_test = train_test_split(poly_X, y, test_size=0.2, random_state=42)\n",
    "\n",
    "# Step 3: Create the model\n",
    "model = LinearRegression()\n",
    "\n",
    "# Step 4: Train the model\n",
    "model.fit(X_train, y_train)\n",
    "\n",
    "# Step 5: Evaluate the model\n",
    "predictions = model.predict(X_test)\n",
    "mse = mean_squared_error(y_test, predictions)\n",
    "rmse = np.sqrt(mse)\n",
    "r2 = r2_score(y_test, predictions)  # This is how you calculate R-squared\n",
    "print(f\"RMSE: {rmse}\")\n",
    "print(f\"R-squared: {r2}\")  # Print the R-squared value\n",
    "\n",
    "\n",
    "# Coefficients and Intercept\n",
    "print(f\"Coefficient: {model.coef_[0]}\")\n",
    "print(f\"Intercept: {model.intercept_}\")\n",
    "\n",
    "# Predicting with a new 3P% value\n",
    "#off_def = np.array([[118.0,111.5]])  # Example 3P% value\n",
    "#off_def = PolynomialFeatures(3, include_bias=False).fit_transform(off_def)\n",
    "#predicted_pts = model.predict(off_def)\n",
    "#print(f\"Predicted Win/Loss Percent for offense: 118, defense: 111.5: {predicted_pts[0]}\")"
   ]
  },
  {
   "cell_type": "markdown",
   "id": "374b8c15-7f66-4875-b4e3-fd296dbd3b78",
   "metadata": {},
   "source": [
    "### NRtg: R-squared: 0.45 ###"
   ]
  },
  {
   "cell_type": "code",
   "execution_count": 16,
   "id": "647e64c6-77fd-4f88-8107-49d023b2aeb8",
   "metadata": {},
   "outputs": [
    {
     "name": "stdout",
     "output_type": "stream",
     "text": [
      "RMSE: 3.428621730824907\n",
      "R-squared: 0.8775572067085717\n",
      "Coefficient: 2.950541362302527\n",
      "Intercept: 50.41960261510763\n"
     ]
    }
   ],
   "source": [
    "data = merged\n",
    "\n",
    "# Step 2: Prepare the data\n",
    "X = data[['NRtg']]  # Predictor variable (reshape for a single feature)\n",
    "y = data['WinLossPercentage']  # Response variable\n",
    "poly_X = PolynomialFeatures(1, include_bias=False).fit_transform(X)\n",
    "\n",
    "# Split the data into training and testing sets (80% train, 20% test)\n",
    "X_train, X_test, y_train, y_test = train_test_split(poly_X, y, test_size=0.2, random_state=42)\n",
    "\n",
    "# Step 3: Create the model\n",
    "model = LinearRegression()\n",
    "\n",
    "# Step 4: Train the model\n",
    "model.fit(X_train, y_train)\n",
    "\n",
    "# Step 5: Evaluate the model\n",
    "predictions = model.predict(X_test)\n",
    "mse = mean_squared_error(y_test, predictions)\n",
    "rmse = np.sqrt(mse)\n",
    "r2 = r2_score(y_test, predictions)  # This is how you calculate R-squared\n",
    "print(f\"RMSE: {rmse}\")\n",
    "print(f\"R-squared: {r2}\")  # Print the R-squared value\n",
    "\n",
    "\n",
    "# Coefficients and Intercept\n",
    "print(f\"Coefficient: {model.coef_[0]}\")\n",
    "print(f\"Intercept: {model.intercept_}\")\n",
    "\n",
    "# Predicting with a new 3P% value\n",
    "#off_def = np.array([[118.0,111.5]])  # Example 3P% value\n",
    "#off_def = PolynomialFeatures(3, include_bias=False).fit_transform(off_def)\n",
    "#predicted_pts = model.predict(off_def)\n",
    "#print(f\"Predicted Win/Loss Percent for offense: 118, defense: 111.5: {predicted_pts[0]}\")"
   ]
  },
  {
   "cell_type": "markdown",
   "id": "0369997b-ee19-4f1e-aaa2-d1a9dd9c7268",
   "metadata": {},
   "source": [
    "### TSpercent: R-squared: -0.178 ###"
   ]
  },
  {
   "cell_type": "code",
   "execution_count": 17,
   "id": "36cd6962-41f5-4508-a9ab-82c26b33e1ac",
   "metadata": {},
   "outputs": [
    {
     "name": "stdout",
     "output_type": "stream",
     "text": [
      "RMSE: 9.11005853940775\n",
      "R-squared: 0.13555688994021609\n",
      "Coefficient: 536.4112534641112\n",
      "Intercept: -262.09355639065024\n"
     ]
    }
   ],
   "source": [
    "data = merged\n",
    "\n",
    "# Step 2: Prepare the data\n",
    "X = data[['TS%']]  # Predictor variable (reshape for a single feature)\n",
    "y = data['WinLossPercentage']  # Response variable\n",
    "poly_X = PolynomialFeatures(1, include_bias=False).fit_transform(X)\n",
    "\n",
    "# Split the data into training and testing sets (80% train, 20% test)\n",
    "X_train, X_test, y_train, y_test = train_test_split(poly_X, y, test_size=0.2, random_state=42)\n",
    "\n",
    "# Step 3: Create the model\n",
    "model = LinearRegression()\n",
    "\n",
    "# Step 4: Train the model\n",
    "model.fit(X_train, y_train)\n",
    "\n",
    "# Step 5: Evaluate the model\n",
    "predictions = model.predict(X_test)\n",
    "mse = mean_squared_error(y_test, predictions)\n",
    "rmse = np.sqrt(mse)\n",
    "r2 = r2_score(y_test, predictions)  # This is how you calculate R-squared\n",
    "print(f\"RMSE: {rmse}\")\n",
    "print(f\"R-squared: {r2}\")  # Print the R-squared value\n",
    "\n",
    "\n",
    "# Coefficients and Intercept\n",
    "print(f\"Coefficient: {model.coef_[0]}\")\n",
    "print(f\"Intercept: {model.intercept_}\")\n",
    "\n",
    "# Predicting with a new 3P% value\n",
    "#off_def = np.array([[118.0,111.5]])  # Example 3P% value\n",
    "#off_def = PolynomialFeatures(3, include_bias=False).fit_transform(off_def)\n",
    "#predicted_pts = model.predict(off_def)\n",
    "#print(f\"Predicted Win/Loss Percent for offense: 118, defense: 111.5: {predicted_pts[0]}\")"
   ]
  },
  {
   "cell_type": "markdown",
   "id": "9227978a-053b-4307-8034-8293da50837a",
   "metadata": {},
   "source": [
    "### FTr R-squared: -0.015 ####"
   ]
  },
  {
   "cell_type": "code",
   "execution_count": 18,
   "id": "8af47359-e4b6-4076-8c80-8380f29a573e",
   "metadata": {},
   "outputs": [
    {
     "name": "stdout",
     "output_type": "stream",
     "text": [
      "RMSE: 10.206618225805599\n",
      "R-squared: -0.08507016611604357\n",
      "Coefficient: -59.9792861367994\n",
      "Intercept: 66.87496113013171\n"
     ]
    }
   ],
   "source": [
    "data = merged\n",
    "\n",
    "# Step 2: Prepare the data\n",
    "X = data[['FTr']]  # Predictor variable (reshape for a single feature)\n",
    "y = data['WinLossPercentage']  # Response variable\n",
    "poly_X = PolynomialFeatures(1, include_bias=False).fit_transform(X)\n",
    "\n",
    "# Split the data into training and testing sets (80% train, 20% test)\n",
    "X_train, X_test, y_train, y_test = train_test_split(poly_X, y, test_size=0.2, random_state=42)\n",
    "\n",
    "# Step 3: Create the model\n",
    "model = LinearRegression()\n",
    "\n",
    "# Step 4: Train the model\n",
    "model.fit(X_train, y_train)\n",
    "\n",
    "# Step 5: Evaluate the model\n",
    "predictions = model.predict(X_test)\n",
    "mse = mean_squared_error(y_test, predictions)\n",
    "rmse = np.sqrt(mse)\n",
    "r2 = r2_score(y_test, predictions)  # This is how you calculate R-squared\n",
    "print(f\"RMSE: {rmse}\")\n",
    "print(f\"R-squared: {r2}\")  # Print the R-squared value\n",
    "\n",
    "\n",
    "# Coefficients and Intercept\n",
    "print(f\"Coefficient: {model.coef_[0]}\")\n",
    "print(f\"Intercept: {model.intercept_}\")\n",
    "\n",
    "# Predicting with a new 3P% value\n",
    "#off_def = np.array([[118.0,111.5]])  # Example 3P% value\n",
    "#off_def = PolynomialFeatures(3, include_bias=False).fit_transform(off_def)\n",
    "#predicted_pts = model.predict(off_def)\n",
    "#print(f\"Predicted Win/Loss Percent for offense: 118, defense: 111.5: {predicted_pts[0]}\")"
   ]
  },
  {
   "cell_type": "markdown",
   "id": "5675362f-cde6-48eb-9b13-763992e5fd75",
   "metadata": {},
   "source": [
    "### 3PAr R-squared: 0.08 ###"
   ]
  },
  {
   "cell_type": "code",
   "execution_count": 19,
   "id": "790bde98-4f21-490b-9b4b-2baf3e2bd0e9",
   "metadata": {},
   "outputs": [
    {
     "name": "stdout",
     "output_type": "stream",
     "text": [
      "RMSE: 9.676737926276017\n",
      "R-squared: 0.024668972429098934\n",
      "Coefficient: 87.95530902181575\n",
      "Intercept: 16.1586163754859\n"
     ]
    }
   ],
   "source": [
    "data = merged\n",
    "\n",
    "# Step 2: Prepare the data\n",
    "X = data[['3PAr']]  # Predictor variable (reshape for a single feature)\n",
    "y = data['WinLossPercentage']  # Response variable\n",
    "poly_X = PolynomialFeatures(1, include_bias=False).fit_transform(X)\n",
    "\n",
    "# Split the data into training and testing sets (80% train, 20% test)\n",
    "X_train, X_test, y_train, y_test = train_test_split(poly_X, y, test_size=0.2, random_state=42)\n",
    "\n",
    "# Step 3: Create the model\n",
    "model = LinearRegression()\n",
    "\n",
    "# Step 4: Train the model\n",
    "model.fit(X_train, y_train)\n",
    "\n",
    "# Step 5: Evaluate the model\n",
    "predictions = model.predict(X_test)\n",
    "mse = mean_squared_error(y_test, predictions)\n",
    "rmse = np.sqrt(mse)\n",
    "r2 = r2_score(y_test, predictions)  # This is how you calculate R-squared\n",
    "print(f\"RMSE: {rmse}\")\n",
    "print(f\"R-squared: {r2}\")  # Print the R-squared value\n",
    "\n",
    "\n",
    "# Coefficients and Intercept\n",
    "print(f\"Coefficient: {model.coef_[0]}\")\n",
    "print(f\"Intercept: {model.intercept_}\")\n",
    "\n",
    "# Predicting with a new 3P% value\n",
    "#off_def = np.array([[118.0,111.5]])  # Example 3P% value\n",
    "#off_def = PolynomialFeatures(3, include_bias=False).fit_transform(off_def)\n",
    "#predicted_pts = model.predict(off_def)\n",
    "#print(f\"Predicted Win/Loss Percent for offense: 118, defense: 111.5: {predicted_pts[0]}\")"
   ]
  },
  {
   "cell_type": "markdown",
   "id": "77910397-52fb-49d6-855c-c951f1be21e4",
   "metadata": {},
   "source": [
    "### Field Goal percentage R-squared: -0.22 ###"
   ]
  },
  {
   "cell_type": "code",
   "execution_count": 20,
   "id": "e9c6a668-9ca9-4978-afc3-46f106ac957e",
   "metadata": {},
   "outputs": [
    {
     "name": "stdout",
     "output_type": "stream",
     "text": [
      "RMSE: 9.444113983675312\n",
      "R-squared: 0.0709982717228218\n",
      "Coefficient: 624.2124872244977\n",
      "Intercept: -246.44218005695137\n"
     ]
    }
   ],
   "source": [
    "data = merged\n",
    "\n",
    "# Step 2: Prepare the data\n",
    "X = data[['FG%']]  # Predictor variable (reshape for a single feature)\n",
    "y = data['WinLossPercentage']  # Response variable\n",
    "poly_X = PolynomialFeatures(1, include_bias=False).fit_transform(X)\n",
    "\n",
    "# Split the data into training and testing sets (80% train, 20% test)\n",
    "X_train, X_test, y_train, y_test = train_test_split(poly_X, y, test_size=0.2, random_state=42)\n",
    "\n",
    "# Step 3: Create the model\n",
    "model = LinearRegression()\n",
    "\n",
    "# Step 4: Train the model\n",
    "model.fit(X_train, y_train)\n",
    "\n",
    "# Step 5: Evaluate the model\n",
    "predictions = model.predict(X_test)\n",
    "mse = mean_squared_error(y_test, predictions)\n",
    "rmse = np.sqrt(mse)\n",
    "r2 = r2_score(y_test, predictions)  # This is how you calculate R-squared\n",
    "print(f\"RMSE: {rmse}\")\n",
    "print(f\"R-squared: {r2}\")  # Print the R-squared value\n",
    "\n",
    "\n",
    "# Coefficients and Intercept\n",
    "print(f\"Coefficient: {model.coef_[0]}\")\n",
    "print(f\"Intercept: {model.intercept_}\")\n",
    "\n",
    "# Predicting with a new 3P% value\n",
    "#off_def = np.array([[118.0,111.5]])  # Example 3P% value\n",
    "#off_def = PolynomialFeatures(3, include_bias=False).fit_transform(off_def)\n",
    "#predicted_pts = model.predict(off_def)\n",
    "#print(f\"Predicted Win/Loss Percent for offense: 118, defense: 111.5: {predicted_pts[0]}\")"
   ]
  },
  {
   "cell_type": "markdown",
   "id": "b0ba777c-ae09-4b0e-9da9-b70155b18512",
   "metadata": {},
   "source": [
    "### 3P%: R-squared: -0.010 ###"
   ]
  },
  {
   "cell_type": "code",
   "execution_count": 21,
   "id": "c8e33843-a5e6-4d3a-96e1-06d90187bc54",
   "metadata": {},
   "outputs": [
    {
     "name": "stdout",
     "output_type": "stream",
     "text": [
      "RMSE: 6.4629014575269235\n",
      "R-squared: 0.5649400054851867\n",
      "Coefficient: 489.53907517744517\n",
      "Intercept: -126.03298277777077\n"
     ]
    }
   ],
   "source": [
    "data = merged\n",
    "\n",
    "# Step 2: Prepare the data\n",
    "X = data[['3P%']]  # Predictor variable (reshape for a single feature)\n",
    "y = data['WinLossPercentage']  # Response variable\n",
    "poly_X = PolynomialFeatures(1, include_bias=False).fit_transform(X)\n",
    "\n",
    "# Split the data into training and testing sets (80% train, 20% test)\n",
    "X_train, X_test, y_train, y_test = train_test_split(poly_X, y, test_size=0.2, random_state=42)\n",
    "\n",
    "# Step 3: Create the model\n",
    "model = LinearRegression()\n",
    "\n",
    "# Step 4: Train the model\n",
    "model.fit(X_train, y_train)\n",
    "\n",
    "# Step 5: Evaluate the model\n",
    "predictions = model.predict(X_test)\n",
    "mse = mean_squared_error(y_test, predictions)\n",
    "rmse = np.sqrt(mse)\n",
    "r2 = r2_score(y_test, predictions)  # This is how you calculate R-squared\n",
    "print(f\"RMSE: {rmse}\")\n",
    "print(f\"R-squared: {r2}\")  # Print the R-squared value\n",
    "\n",
    "\n",
    "# Coefficients and Intercept\n",
    "print(f\"Coefficient: {model.coef_[0]}\")\n",
    "print(f\"Intercept: {model.intercept_}\")\n",
    "\n",
    "# Predicting with a new 3P% value\n",
    "#off_def = np.array([[118.0,111.5]])  # Example 3P% value\n",
    "#off_def = PolynomialFeatures(3, include_bias=False).fit_transform(off_def)\n",
    "#predicted_pts = model.predict(off_def)\n",
    "#print(f\"Predicted Win/Loss Percent for offense: 118, defense: 111.5: {predicted_pts[0]}\")"
   ]
  },
  {
   "cell_type": "markdown",
   "id": "c05c3c3c-afbd-4b46-ad2e-d664d81f52c3",
   "metadata": {},
   "source": [
    "### 2P%: R-squared: -0.18 ###"
   ]
  },
  {
   "cell_type": "code",
   "execution_count": 22,
   "id": "fd4b35f9-a4e0-49c8-a8b6-d7858a469e78",
   "metadata": {},
   "outputs": [
    {
     "name": "stdout",
     "output_type": "stream",
     "text": [
      "RMSE: 11.971592020319026\n",
      "R-squared: -0.4927871845191856\n",
      "Coefficient: 480.4795040381017\n",
      "Intercept: -213.95121857424772\n"
     ]
    }
   ],
   "source": [
    "data = merged\n",
    "\n",
    "# Step 2: Prepare the data\n",
    "X = data[['2P%']]  # Predictor variable (reshape for a single feature)\n",
    "y = data['WinLossPercentage']  # Response variable\n",
    "poly_X = PolynomialFeatures(1, include_bias=False).fit_transform(X)\n",
    "\n",
    "# Split the data into training and testing sets (80% train, 20% test)\n",
    "X_train, X_test, y_train, y_test = train_test_split(poly_X, y, test_size=0.2, random_state=42)\n",
    "\n",
    "# Step 3: Create the model\n",
    "model = LinearRegression()\n",
    "\n",
    "# Step 4: Train the model\n",
    "model.fit(X_train, y_train)\n",
    "\n",
    "# Step 5: Evaluate the model\n",
    "predictions = model.predict(X_test)\n",
    "mse = mean_squared_error(y_test, predictions)\n",
    "rmse = np.sqrt(mse)\n",
    "r2 = r2_score(y_test, predictions)  # This is how you calculate R-squared\n",
    "print(f\"RMSE: {rmse}\")\n",
    "print(f\"R-squared: {r2}\")  # Print the R-squared value\n",
    "\n",
    "\n",
    "# Coefficients and Intercept\n",
    "print(f\"Coefficient: {model.coef_[0]}\")\n",
    "print(f\"Intercept: {model.intercept_}\")\n",
    "\n",
    "# Predicting with a new 3P% value\n",
    "#off_def = np.array([[118.0,111.5]])  # Example 3P% value\n",
    "#off_def = PolynomialFeatures(3, include_bias=False).fit_transform(off_def)\n",
    "#predicted_pts = model.predict(off_def)\n",
    "#print(f\"Predicted Win/Loss Percent for offense: 118, defense: 111.5: {predicted_pts[0]}\")"
   ]
  },
  {
   "cell_type": "markdown",
   "id": "d1f4a4ae-42d3-4ddd-b744-0386066a41a9",
   "metadata": {},
   "source": [
    "### FT% R-squared: -0.213 ###"
   ]
  },
  {
   "cell_type": "code",
   "execution_count": 23,
   "id": "afc63b2a-790f-4037-b1a3-3cceee2abf3d",
   "metadata": {},
   "outputs": [
    {
     "name": "stdout",
     "output_type": "stream",
     "text": [
      "RMSE: 9.861007011137195\n",
      "R-squared: -0.012830140689680025\n",
      "Coefficient: 65.0382137130977\n",
      "Intercept: -0.0008062588476605015\n"
     ]
    }
   ],
   "source": [
    "data = merged\n",
    "\n",
    "# Step 2: Prepare the data\n",
    "X = data[['FT%']]  # Predictor variable (reshape for a single feature)\n",
    "y = data['WinLossPercentage']  # Response variable\n",
    "poly_X = PolynomialFeatures(1, include_bias=False).fit_transform(X)\n",
    "\n",
    "# Split the data into training and testing sets (80% train, 20% test)\n",
    "X_train, X_test, y_train, y_test = train_test_split(poly_X, y, test_size=0.2, random_state=42)\n",
    "\n",
    "# Step 3: Create the model\n",
    "model = LinearRegression()\n",
    "\n",
    "# Step 4: Train the model\n",
    "model.fit(X_train, y_train)\n",
    "\n",
    "# Step 5: Evaluate the model\n",
    "predictions = model.predict(X_test)\n",
    "mse = mean_squared_error(y_test, predictions)\n",
    "rmse = np.sqrt(mse)\n",
    "r2 = r2_score(y_test, predictions)  # This is how you calculate R-squared\n",
    "print(f\"RMSE: {rmse}\")\n",
    "print(f\"R-squared: {r2}\")  # Print the R-squared value\n",
    "\n",
    "\n",
    "# Coefficients and Intercept\n",
    "print(f\"Coefficient: {model.coef_[0]}\")\n",
    "print(f\"Intercept: {model.intercept_}\")\n",
    "\n",
    "# Predicting with a new 3P% value\n",
    "#off_def = np.array([[118.0,111.5]])  # Example 3P% value\n",
    "#off_def = PolynomialFeatures(3, include_bias=False).fit_transform(off_def)\n",
    "#predicted_pts = model.predict(off_def)\n",
    "#print(f\"Predicted Win/Loss Percent for offense: 118, defense: 111.5: {predicted_pts[0]}\")"
   ]
  },
  {
   "cell_type": "markdown",
   "id": "9b8a6c51-b05a-46ba-abae-c4f2e0f6f3a7",
   "metadata": {},
   "source": [
    "### 3P, 2P, FT % R-squared: -0.07 ###"
   ]
  },
  {
   "cell_type": "code",
   "execution_count": 24,
   "id": "c73d1c97-086b-46d7-9821-264d6c62ca8f",
   "metadata": {},
   "outputs": [
    {
     "name": "stdout",
     "output_type": "stream",
     "text": [
      "RMSE: 9.431542111669764\n",
      "R-squared: 0.07346997360761176\n",
      "Coefficient: 40.27188953834502\n",
      "Intercept: -266.9146328139593\n"
     ]
    }
   ],
   "source": [
    "data = merged\n",
    "\n",
    "# Step 2: Prepare the data\n",
    "X = data[['FT%', '3P%', '2P%']]  # Predictor variable (reshape for a single feature)\n",
    "y = data['WinLossPercentage']  # Response variable\n",
    "#poly_X = PolynomialFeatures(1, include_bias=False).fit_transform(X)\n",
    "\n",
    "# Split the data into training and testing sets (80% train, 20% test)\n",
    "X_train, X_test, y_train, y_test = train_test_split(X, y, test_size=0.2, random_state=42)\n",
    "\n",
    "# Step 3: Create the model\n",
    "model = LinearRegression()\n",
    "\n",
    "# Step 4: Train the model\n",
    "model.fit(X_train, y_train)\n",
    "\n",
    "# Step 5: Evaluate the model\n",
    "predictions = model.predict(X_test)\n",
    "mse = mean_squared_error(y_test, predictions)\n",
    "rmse = np.sqrt(mse)\n",
    "r2 = r2_score(y_test, predictions)  # This is how you calculate R-squared\n",
    "print(f\"RMSE: {rmse}\")\n",
    "print(f\"R-squared: {r2}\")  # Print the R-squared value\n",
    "\n",
    "\n",
    "# Coefficients and Intercept\n",
    "print(f\"Coefficient: {model.coef_[0]}\")\n",
    "print(f\"Intercept: {model.intercept_}\")\n",
    "\n",
    "# Predicting with a new 3P% value\n",
    "#off_def = np.array([[118.0,111.5]])  # Example 3P% value\n",
    "#off_def = PolynomialFeatures(3, include_bias=False).fit_transform(off_def)\n",
    "#predicted_pts = model.predict(off_def)\n",
    "#print(f\"Predicted Win/Loss Percent for offense: 118, defense: 111.5: {predicted_pts[0]}\")"
   ]
  },
  {
   "cell_type": "markdown",
   "id": "535a3970-250e-4968-b567-d17a19918733",
   "metadata": {},
   "source": [
    "### LASSO CV MODEL:  FT, 3P, 2P Lasso R-squared: 0.144 ###"
   ]
  },
  {
   "cell_type": "code",
   "execution_count": 25,
   "id": "bb8fd5b2-1640-4f53-ae34-be246db3d9b3",
   "metadata": {},
   "outputs": [
    {
     "name": "stdout",
     "output_type": "stream",
     "text": [
      "Lasso RMSE: 9.405470761667518\n",
      "Lasso R-squared: 0.07858525626106327\n"
     ]
    }
   ],
   "source": [
    "from sklearn.linear_model import LassoCV\n",
    "\n",
    "data = merged\n",
    "\n",
    "# Step 2: Prepare the data\n",
    "X = data[['FT%', '3P%', '2P%']]  # Predictor variable (reshape for a single feature)\n",
    "y = data['WinLossPercentage']  # Response variable\n",
    "#poly_X = PolynomialFeatures(1, include_bias=False).fit_transform(X)\n",
    "\n",
    "# Split the data into training and testing sets (80% train, 20% test)\n",
    "X_train, X_test, y_train, y_test = train_test_split(X, y, test_size=0.2, random_state=42)\n",
    "\n",
    "# Create the LassoCV model\n",
    "lasso = LassoCV(cv=5, random_state=42)\n",
    "\n",
    "# Train the model\n",
    "lasso.fit(X_train, y_train)\n",
    "\n",
    "# Evaluate the model\n",
    "lasso_predictions = lasso.predict(X_test)\n",
    "lasso_mse = mean_squared_error(y_test, lasso_predictions)\n",
    "lasso_rmse = np.sqrt(lasso_mse)\n",
    "lasso_r2 = r2_score(y_test, lasso_predictions)\n",
    "\n",
    "print(f\"Lasso RMSE: {lasso_rmse}\")\n",
    "print(f\"Lasso R-squared: {lasso_r2}\")"
   ]
  },
  {
   "cell_type": "markdown",
   "id": "ac96c69c-730d-4510-a697-c06c26257140",
   "metadata": {},
   "source": [
    "### Random Forest: FT, 3P, 2P RMSE: 0.48330224154176904 ###"
   ]
  },
  {
   "cell_type": "code",
   "execution_count": 26,
   "id": "1c0f0c4d-262d-4463-8d5c-e6c431bce140",
   "metadata": {},
   "outputs": [
    {
     "name": "stdout",
     "output_type": "stream",
     "text": [
      "RMSE: 15.574379533021167\n",
      "Feature Importances: [0.21770715 0.21120574 0.57108711]\n"
     ]
    }
   ],
   "source": [
    "from sklearn.ensemble import RandomForestRegressor\n",
    "from sklearn.model_selection import train_test_split\n",
    "from sklearn.metrics import mean_squared_error\n",
    "\n",
    "data = merged\n",
    "\n",
    "# Step 2: Prepare the data\n",
    "X = data[['FT%', '3P%', '2P%']]  # Predictor variable (reshape for a single feature)\n",
    "y = data['WinLossPercentage']  # Response variable\n",
    "#poly_X = PolynomialFeatures(1, include_bias=False).fit_transform(X)\n",
    "\n",
    "# Sample data preparation\n",
    "# X and y should already be defined as your features and target variable respectively\n",
    "X_train, X_test, y_train, y_test = train_test_split(X, y, test_size=0.2, random_state=42)\n",
    "\n",
    "# Create a random forest regressor model\n",
    "rf = RandomForestRegressor(n_estimators=100, random_state=42)\n",
    "\n",
    "# Train the model\n",
    "rf.fit(X_train, y_train)\n",
    "\n",
    "# Make predictions\n",
    "predictions = rf.predict(X_test)\n",
    "\n",
    "# Evaluate the model\n",
    "mse = mean_squared_error(y_test, predictions)\n",
    "rmse = np.sqrt(mse)\n",
    "print(f\"RMSE: {rmse}\")\n",
    "\n",
    "# Get feature importance\n",
    "importances = rf.feature_importances_\n",
    "print(f\"Feature Importances: {importances}\")"
   ]
  },
  {
   "cell_type": "markdown",
   "id": "eb10e684-c055-40a4-b03a-1d1d30492d88",
   "metadata": {},
   "source": [
    "### Random Forest: SRS, NRtg, RMSE: 0.323 ###"
   ]
  },
  {
   "cell_type": "code",
   "execution_count": 27,
   "id": "3b14e980-b975-41fa-b3c8-74450e23b44d",
   "metadata": {},
   "outputs": [
    {
     "name": "stdout",
     "output_type": "stream",
     "text": [
      "RMSE: 3.1248002117376528\n",
      "R squared: 0.8982958691910514\n",
      "Feature Importances: [0.55952134 0.44047866]\n"
     ]
    }
   ],
   "source": [
    "from sklearn.ensemble import RandomForestRegressor\n",
    "from sklearn.model_selection import train_test_split\n",
    "from sklearn.metrics import mean_squared_error\n",
    "\n",
    "data = merged\n",
    "\n",
    "# Step 2: Prepare the data\n",
    "X = data[['SRS', 'NRtg']]  # Predictor variable (reshape for a single feature)\n",
    "y = data['WinLossPercentage']  # Response variable\n",
    "#poly_X = PolynomialFeatures(1, include_bias=False).fit_transform(X)\n",
    "\n",
    "# Sample data preparation\n",
    "# X and y should already be defined as your features and target variable respectively\n",
    "X_train, X_test, y_train, y_test = train_test_split(X, y, test_size=0.2, random_state=42)\n",
    "\n",
    "# Create a random forest regressor model\n",
    "rf = RandomForestRegressor(n_estimators=100, random_state=42)\n",
    "\n",
    "# Train the model\n",
    "rf.fit(X_train, y_train)\n",
    "\n",
    "# Make predictions\n",
    "predictions = rf.predict(X_test)\n",
    "\n",
    "# Evaluate the model\n",
    "mse = mean_squared_error(y_test, predictions)\n",
    "rmse = np.sqrt(mse)\n",
    "print(f\"RMSE: {rmse}\")\n",
    "\n",
    "r2 = r2_score(y_test, predictions)\n",
    "print(f\"R squared: {r2}\")\n",
    "\n",
    "# Get feature importance\n",
    "importances = rf.feature_importances_\n",
    "print(f\"Feature Importances: {importances}\")"
   ]
  },
  {
   "cell_type": "markdown",
   "id": "584e7380-f334-4607-abb6-a44b70fd22b3",
   "metadata": {},
   "source": [
    "### Random Forest SRS NRTG with 5-fold cross validation ###\n",
    "##### Best Parameters: {'max_depth': None, 'min_samples_leaf': 2, 'min_samples_split': 2, 'n_estimators': 50}\n",
    "##### RMSE: 0.10574056628191948"
   ]
  },
  {
   "cell_type": "code",
   "execution_count": 28,
   "id": "f63829dd-d6b3-47ac-88ae-f217580f8fd2",
   "metadata": {},
   "outputs": [
    {
     "name": "stdout",
     "output_type": "stream",
     "text": [
      "Fitting 5 folds for each of 108 candidates, totalling 540 fits\n",
      "Best Parameters: {'max_depth': None, 'min_samples_leaf': 1, 'min_samples_split': 2, 'n_estimators': 200}\n",
      "RMSE: 2.9214561536847032\n",
      "R squared: 0.9111018287435437\n",
      "Feature Importances: [0.54009429 0.45990571]\n"
     ]
    }
   ],
   "source": [
    "from sklearn.ensemble import RandomForestRegressor\n",
    "from sklearn.model_selection import train_test_split, GridSearchCV\n",
    "from sklearn.metrics import mean_squared_error\n",
    "\n",
    "data = merged  # assuming 'merged' is your DataFrame\n",
    "\n",
    "# Prepare the data\n",
    "X = data[['SRS', 'NRtg']]  # Predictor variables\n",
    "y = data['WinLossPercentage']  # Response variable\n",
    "\n",
    "# Split data\n",
    "X_train, X_test, y_train, y_test = train_test_split(X, y, test_size=0.2, random_state=42)\n",
    "\n",
    "# Define the model\n",
    "rf = RandomForestRegressor(random_state=42)\n",
    "\n",
    "# Set up the parameter grid\n",
    "param_grid = {\n",
    "    'n_estimators': [50, 100, 200],  # number of trees in the forest\n",
    "    'max_depth': [None, 10, 20, 30],  # maximum depth of the tree\n",
    "    'min_samples_split': [2, 5, 10],  # minimum number of samples required to split an internal node\n",
    "    'min_samples_leaf': [1, 2, 4]  # minimum number of samples required to be at a leaf node\n",
    "}\n",
    "\n",
    "# Create GridSearchCV object\n",
    "grid_search = GridSearchCV(estimator=rf, param_grid=param_grid, cv=5, scoring='r2', verbose=2, n_jobs=-1)\n",
    "\n",
    "# Fit GridSearchCV\n",
    "grid_search.fit(X_train, y_train)\n",
    "\n",
    "# Get the best model\n",
    "best_rf = grid_search.best_estimator_\n",
    "\n",
    "# Make predictions with the best model\n",
    "predictions = best_rf.predict(X_test)\n",
    "\n",
    "# Evaluate the best model\n",
    "mse = mean_squared_error(y_test, predictions)\n",
    "rmse = np.sqrt(mse)\n",
    "\n",
    "print(f\"Best Parameters: {grid_search.best_params_}\")\n",
    "print(f\"RMSE: {rmse}\")\n",
    "\n",
    "r2 = r2_score(y_test, predictions)\n",
    "print(f\"R squared: {r2}\")\n",
    "\n",
    "# Get feature importance\n",
    "importances = best_rf.feature_importances_\n",
    "print(f\"Feature Importances: {importances}\")"
   ]
  }
 ],
 "metadata": {
  "kernelspec": {
   "display_name": "Python 3 (ipykernel)",
   "language": "python",
   "name": "python3"
  },
  "language_info": {
   "codemirror_mode": {
    "name": "ipython",
    "version": 3
   },
   "file_extension": ".py",
   "mimetype": "text/x-python",
   "name": "python",
   "nbconvert_exporter": "python",
   "pygments_lexer": "ipython3",
   "version": "3.11.8"
  }
 },
 "nbformat": 4,
 "nbformat_minor": 5
}
