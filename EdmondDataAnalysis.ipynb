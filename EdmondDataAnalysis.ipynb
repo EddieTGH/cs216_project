{
 "cells": [
  {
   "cell_type": "code",
   "execution_count": 1,
   "id": "163402ad-3dcb-4505-91e6-0fe8e9d96cfe",
   "metadata": {},
   "outputs": [
    {
     "name": "stderr",
     "output_type": "stream",
     "text": [
      "/Users/edmondniu/anaconda3/lib/python3.11/site-packages/pandas/core/arrays/masked.py:60: UserWarning: Pandas requires version '1.3.6' or newer of 'bottleneck' (version '1.3.5' currently installed).\n",
      "  from pandas.core import (\n"
     ]
    }
   ],
   "source": [
    "import numpy as np\n",
    "import pandas as pd\n",
    "import seaborn as sns\n",
    "sns.set_theme()"
   ]
  },
  {
   "cell_type": "code",
   "execution_count": 2,
   "id": "c5a2dcc7-1551-4e10-82ef-6c983e2fcea6",
   "metadata": {},
   "outputs": [],
   "source": [
    "#import and clean datasets\n",
    "advanced = pd.read_csv(\"advanced.csv\", header = 1, index_col=1).iloc[1:].dropna(axis=1, how='all')\n",
    "per_game = pd.read_csv('per_game.csv', index_col=1)\n",
    "standings = pd.read_csv('standings.csv', header = 1, index_col=1)\n",
    "\n",
    "#remove astericks in team names\n",
    "per_game.index = per_game.index.str.replace(r'\\*', '', regex=True)\n",
    "advanced.index = advanced.index.str.replace(r'\\*', '', regex=True)\n",
    "\n",
    "#merge datasets\n",
    "##TODO: merge datasets for all three\n",
    "##TODO: rename columns in standings dataset. Add conference/division labels to colums\n",
    "merged = pd.concat([standings, per_game, advanced], axis=1, join='outer')"
   ]
  },
  {
   "cell_type": "code",
   "execution_count": 3,
   "id": "d0d383fc-d52b-4d9d-8e17-2ab52b9fb16b",
   "metadata": {},
   "outputs": [
    {
     "name": "stdout",
     "output_type": "stream",
     "text": [
      "1.4.1.post1\n"
     ]
    }
   ],
   "source": [
    "try:\n",
    "    import sklearn\n",
    "    print(sklearn.__version__)\n",
    "    if (sklearn.__version__ < '1.3.0'): #update for latest scikit-learn version\n",
    "        !pip install -U --user scikit-learn\n",
    "except Exception as e:\n",
    "    !pip install scikit-learn"
   ]
  },
  {
   "cell_type": "code",
   "execution_count": 23,
   "id": "f7ae8546-beb6-46b3-bf6f-91d6a9ea28f3",
   "metadata": {},
   "outputs": [],
   "source": [
    "from sklearn.linear_model import LinearRegression\n",
    "from sklearn.model_selection import train_test_split\n",
    "from sklearn.metrics import mean_squared_error\n",
    "from sklearn.metrics import r2_score\n",
    "from sklearn.dummy import DummyClassifier\n",
    "from sklearn.preprocessing import PolynomialFeatures"
   ]
  },
  {
   "cell_type": "code",
   "execution_count": 5,
   "id": "39a54d62-15a0-4c7f-8f67-9b9251b0a95e",
   "metadata": {},
   "outputs": [
    {
     "name": "stdout",
     "output_type": "stream",
     "text": [
      "RMSE: 2.4531407664302716\n",
      "Coefficient: 72.91551246537384\n",
      "Intercept: 88.91222299168982\n",
      "Predicted PTS for 3P% = 0.35: 114.43265235457065\n"
     ]
    },
    {
     "name": "stderr",
     "output_type": "stream",
     "text": [
      "/Users/edmondniu/anaconda3/lib/python3.11/site-packages/sklearn/base.py:493: UserWarning: X does not have valid feature names, but LinearRegression was fitted with feature names\n",
      "  warnings.warn(\n"
     ]
    }
   ],
   "source": [
    "data = merged\n",
    "\n",
    "# Step 2: Prepare the data\n",
    "X = data[['3P%']]  # Predictor variable (reshape for a single feature)\n",
    "y = data['PTS']  # Response variable\n",
    "\n",
    "# Split the data into training and testing sets (80% train, 20% test)\n",
    "X_train, X_test, y_train, y_test = train_test_split(X, y, test_size=0.2, random_state=42)\n",
    "\n",
    "# Step 3: Create the model\n",
    "model = LinearRegression()\n",
    "\n",
    "# Step 4: Train the model\n",
    "model.fit(X_train, y_train)\n",
    "\n",
    "# Step 5: Evaluate the model\n",
    "predictions = model.predict(X_test)\n",
    "mse = mean_squared_error(y_test, predictions)\n",
    "rmse = np.sqrt(mse)\n",
    "print(f\"RMSE: {rmse}\")\n",
    "\n",
    "# Coefficients and Intercept\n",
    "print(f\"Coefficient: {model.coef_[0]}\")\n",
    "print(f\"Intercept: {model.intercept_}\")\n",
    "\n",
    "# Predicting with a new 3P% value\n",
    "new_3P = np.array([[0.35]])  # Example 3P% value\n",
    "predicted_pts = model.predict(new_3P)\n",
    "print(f\"Predicted PTS for 3P% = 0.35: {predicted_pts[0]}\")"
   ]
  },
  {
   "cell_type": "code",
   "execution_count": 15,
   "id": "f75c46d2-2506-4b99-8b9b-00d985c2ae0a",
   "metadata": {},
   "outputs": [
    {
     "data": {
      "text/html": [
       "<div>\n",
       "<style scoped>\n",
       "    .dataframe tbody tr th:only-of-type {\n",
       "        vertical-align: middle;\n",
       "    }\n",
       "\n",
       "    .dataframe tbody tr th {\n",
       "        vertical-align: top;\n",
       "    }\n",
       "\n",
       "    .dataframe thead th {\n",
       "        text-align: right;\n",
       "    }\n",
       "</style>\n",
       "<table border=\"1\" class=\"dataframe\">\n",
       "  <thead>\n",
       "    <tr style=\"text-align: right;\">\n",
       "      <th></th>\n",
       "      <th>Rk</th>\n",
       "      <th>Overall</th>\n",
       "      <th>Home</th>\n",
       "      <th>Road</th>\n",
       "      <th>E</th>\n",
       "      <th>W</th>\n",
       "      <th>A</th>\n",
       "      <th>C</th>\n",
       "      <th>SE</th>\n",
       "      <th>NW</th>\n",
       "      <th>...</th>\n",
       "      <th>eFG%.1</th>\n",
       "      <th>TOV%.1</th>\n",
       "      <th>DRB%</th>\n",
       "      <th>FT/FGA.1</th>\n",
       "      <th>Arena</th>\n",
       "      <th>Attend.</th>\n",
       "      <th>Attend./G</th>\n",
       "      <th>Win</th>\n",
       "      <th>Loss</th>\n",
       "      <th>WinLossPercentage</th>\n",
       "    </tr>\n",
       "    <tr>\n",
       "      <th>Team</th>\n",
       "      <th></th>\n",
       "      <th></th>\n",
       "      <th></th>\n",
       "      <th></th>\n",
       "      <th></th>\n",
       "      <th></th>\n",
       "      <th></th>\n",
       "      <th></th>\n",
       "      <th></th>\n",
       "      <th></th>\n",
       "      <th></th>\n",
       "      <th></th>\n",
       "      <th></th>\n",
       "      <th></th>\n",
       "      <th></th>\n",
       "      <th></th>\n",
       "      <th></th>\n",
       "      <th></th>\n",
       "      <th></th>\n",
       "      <th></th>\n",
       "      <th></th>\n",
       "    </tr>\n",
       "  </thead>\n",
       "  <tbody>\n",
       "    <tr>\n",
       "      <th>Milwaukee Bucks</th>\n",
       "      <td>1.0</td>\n",
       "      <td>58-24</td>\n",
       "      <td>32-9</td>\n",
       "      <td>26-15</td>\n",
       "      <td>35-17</td>\n",
       "      <td>23-7</td>\n",
       "      <td>6-Dec</td>\n",
       "      <td>5-Nov</td>\n",
       "      <td>6-Dec</td>\n",
       "      <td>1-Sep</td>\n",
       "      <td>...</td>\n",
       "      <td>0.520</td>\n",
       "      <td>10.4</td>\n",
       "      <td>77.8</td>\n",
       "      <td>0.175</td>\n",
       "      <td>Fiserv Forum</td>\n",
       "      <td>718,786</td>\n",
       "      <td>17,531</td>\n",
       "      <td>58</td>\n",
       "      <td>24</td>\n",
       "      <td>2.416667</td>\n",
       "    </tr>\n",
       "    <tr>\n",
       "      <th>Boston Celtics</th>\n",
       "      <td>2.0</td>\n",
       "      <td>57-25</td>\n",
       "      <td>32-9</td>\n",
       "      <td>25-16</td>\n",
       "      <td>34-18</td>\n",
       "      <td>23-7</td>\n",
       "      <td>5-Nov</td>\n",
       "      <td>7-Nov</td>\n",
       "      <td>6-Dec</td>\n",
       "      <td>3-Jul</td>\n",
       "      <td>...</td>\n",
       "      <td>0.528</td>\n",
       "      <td>11.3</td>\n",
       "      <td>78.5</td>\n",
       "      <td>0.180</td>\n",
       "      <td>TD Garden</td>\n",
       "      <td>766,240</td>\n",
       "      <td>18,689</td>\n",
       "      <td>57</td>\n",
       "      <td>25</td>\n",
       "      <td>2.280000</td>\n",
       "    </tr>\n",
       "    <tr>\n",
       "      <th>Philadelphia 76ers</th>\n",
       "      <td>3.0</td>\n",
       "      <td>54-28</td>\n",
       "      <td>29-12</td>\n",
       "      <td>25-16</td>\n",
       "      <td>34-18</td>\n",
       "      <td>20-10</td>\n",
       "      <td>6-Oct</td>\n",
       "      <td>13-5</td>\n",
       "      <td>7-Nov</td>\n",
       "      <td>3-Jul</td>\n",
       "      <td>...</td>\n",
       "      <td>0.541</td>\n",
       "      <td>13.0</td>\n",
       "      <td>77.2</td>\n",
       "      <td>0.217</td>\n",
       "      <td>Wells Fargo Center</td>\n",
       "      <td>839,261</td>\n",
       "      <td>20,470</td>\n",
       "      <td>54</td>\n",
       "      <td>28</td>\n",
       "      <td>1.928571</td>\n",
       "    </tr>\n",
       "    <tr>\n",
       "      <th>Denver Nuggets</th>\n",
       "      <td>4.0</td>\n",
       "      <td>53-29</td>\n",
       "      <td>34-7</td>\n",
       "      <td>19-22</td>\n",
       "      <td>19-11</td>\n",
       "      <td>34-18</td>\n",
       "      <td>6-Apr</td>\n",
       "      <td>3-Jul</td>\n",
       "      <td>2-Aug</td>\n",
       "      <td>6-Oct</td>\n",
       "      <td>...</td>\n",
       "      <td>0.543</td>\n",
       "      <td>12.2</td>\n",
       "      <td>76.4</td>\n",
       "      <td>0.201</td>\n",
       "      <td>Ball Arena</td>\n",
       "      <td>788,635</td>\n",
       "      <td>19,235</td>\n",
       "      <td>53</td>\n",
       "      <td>29</td>\n",
       "      <td>1.827586</td>\n",
       "    </tr>\n",
       "    <tr>\n",
       "      <th>Cleveland Cavaliers</th>\n",
       "      <td>5.0</td>\n",
       "      <td>51-31</td>\n",
       "      <td>31-10</td>\n",
       "      <td>20-21</td>\n",
       "      <td>34-18</td>\n",
       "      <td>17-13</td>\n",
       "      <td>10-Aug</td>\n",
       "      <td>13-3</td>\n",
       "      <td>13-5</td>\n",
       "      <td>6-Apr</td>\n",
       "      <td>...</td>\n",
       "      <td>0.535</td>\n",
       "      <td>14.4</td>\n",
       "      <td>76.3</td>\n",
       "      <td>0.210</td>\n",
       "      <td>Rocket Mortgage Fieldhouse</td>\n",
       "      <td>777,280</td>\n",
       "      <td>18,958</td>\n",
       "      <td>51</td>\n",
       "      <td>31</td>\n",
       "      <td>1.645161</td>\n",
       "    </tr>\n",
       "  </tbody>\n",
       "</table>\n",
       "<p>5 rows × 77 columns</p>\n",
       "</div>"
      ],
      "text/plain": [
       "                      Rk Overall   Home   Road      E      W       A      C  \\\n",
       "Team                                                                          \n",
       "Milwaukee Bucks      1.0   58-24   32-9  26-15  35-17   23-7   6-Dec  5-Nov   \n",
       "Boston Celtics       2.0   57-25   32-9  25-16  34-18   23-7   5-Nov  7-Nov   \n",
       "Philadelphia 76ers   3.0   54-28  29-12  25-16  34-18  20-10   6-Oct   13-5   \n",
       "Denver Nuggets       4.0   53-29   34-7  19-22  19-11  34-18   6-Apr  3-Jul   \n",
       "Cleveland Cavaliers  5.0   51-31  31-10  20-21  34-18  17-13  10-Aug   13-3   \n",
       "\n",
       "                        SE     NW  ... eFG%.1 TOV%.1  DRB% FT/FGA.1  \\\n",
       "Team                               ...                                \n",
       "Milwaukee Bucks      6-Dec  1-Sep  ...  0.520   10.4  77.8    0.175   \n",
       "Boston Celtics       6-Dec  3-Jul  ...  0.528   11.3  78.5    0.180   \n",
       "Philadelphia 76ers   7-Nov  3-Jul  ...  0.541   13.0  77.2    0.217   \n",
       "Denver Nuggets       2-Aug  6-Oct  ...  0.543   12.2  76.4    0.201   \n",
       "Cleveland Cavaliers   13-5  6-Apr  ...  0.535   14.4  76.3    0.210   \n",
       "\n",
       "                                          Arena  Attend. Attend./G Win Loss  \\\n",
       "Team                                                                          \n",
       "Milwaukee Bucks                    Fiserv Forum  718,786    17,531  58   24   \n",
       "Boston Celtics                        TD Garden  766,240    18,689  57   25   \n",
       "Philadelphia 76ers           Wells Fargo Center  839,261    20,470  54   28   \n",
       "Denver Nuggets                       Ball Arena  788,635    19,235  53   29   \n",
       "Cleveland Cavaliers  Rocket Mortgage Fieldhouse  777,280    18,958  51   31   \n",
       "\n",
       "                    WinLossPercentage  \n",
       "Team                                   \n",
       "Milwaukee Bucks              2.416667  \n",
       "Boston Celtics               2.280000  \n",
       "Philadelphia 76ers           1.928571  \n",
       "Denver Nuggets               1.827586  \n",
       "Cleveland Cavaliers          1.645161  \n",
       "\n",
       "[5 rows x 77 columns]"
      ]
     },
     "execution_count": 15,
     "metadata": {},
     "output_type": "execute_result"
    }
   ],
   "source": [
    "merged = merged.drop(merged.index[-1])\n",
    "merged[['Win', 'Loss']] = merged['Overall'].str.split('-', expand=True).astype(int)\n",
    "merged['WinLossPercentage'] = merged['Win']/merged['Loss']\n",
    "merged.head(5)"
   ]
  },
  {
   "cell_type": "markdown",
   "id": "bd6d49d0-129a-45d3-b9c8-af64a9f8c978",
   "metadata": {},
   "source": [
    "### Defensive Rating only R-squared: 0.41 ###"
   ]
  },
  {
   "cell_type": "code",
   "execution_count": 20,
   "id": "de12aa62-dd32-453a-ba84-c0801ec4479a",
   "metadata": {},
   "outputs": [
    {
     "name": "stdout",
     "output_type": "stream",
     "text": [
      "The history saving thread hit an unexpected error (OperationalError('attempt to write a readonly database')).History will not be written to the database.\n",
      "RMSE: 0.3890913133639424\n",
      "R-squared: 0.4122736049618033\n",
      "Coefficient: -0.12626775528890244\n",
      "Intercept: 15.611750041515744\n",
      "Predicted Win/Loss Percent for defense: 111.5: 1.5328953268031231\n"
     ]
    },
    {
     "name": "stderr",
     "output_type": "stream",
     "text": [
      "/Users/edmondniu/anaconda3/lib/python3.11/site-packages/sklearn/base.py:493: UserWarning: X does not have valid feature names, but LinearRegression was fitted with feature names\n",
      "  warnings.warn(\n"
     ]
    }
   ],
   "source": [
    "data = merged\n",
    "\n",
    "# Step 2: Prepare the data\n",
    "X = data[['DRtg']]  # Predictor variable (reshape for a single feature)\n",
    "y = data['WinLossPercentage']  # Response variable\n",
    "\n",
    "# Split the data into training and testing sets (80% train, 20% test)\n",
    "X_train, X_test, y_train, y_test = train_test_split(X, y, test_size=0.2, random_state=42)\n",
    "\n",
    "# Step 3: Create the model\n",
    "model = LinearRegression()\n",
    "\n",
    "# Step 4: Train the model\n",
    "model.fit(X_train, y_train)\n",
    "\n",
    "# Step 5: Evaluate the model\n",
    "predictions = model.predict(X_test)\n",
    "mse = mean_squared_error(y_test, predictions)\n",
    "rmse = np.sqrt(mse)\n",
    "r2 = r2_score(y_test, predictions)  # This is how you calculate R-squared\n",
    "print(f\"RMSE: {rmse}\")\n",
    "print(f\"R-squared: {r2}\")  # Print the R-squared value\n",
    "\n",
    "\n",
    "# Coefficients and Intercept\n",
    "print(f\"Coefficient: {model.coef_[0]}\")\n",
    "print(f\"Intercept: {model.intercept_}\")\n",
    "\n",
    "# Predicting with a new 3P% value\n",
    "off_def = np.array([[111.5]])  # Example 3P% value\n",
    "predicted_pts = model.predict(off_def)\n",
    "print(f\"Predicted Win/Loss Percent for defense: 111.5: {predicted_pts[0]}\")"
   ]
  },
  {
   "cell_type": "markdown",
   "id": "110f1de1-4f0c-4d44-b545-ad052ce30f4c",
   "metadata": {},
   "source": [
    "### Offensive Rating only: R-squared: -0.099 ###"
   ]
  },
  {
   "cell_type": "code",
   "execution_count": 28,
   "id": "52848bb0-c4f7-48c8-9f11-e322be9aa1fd",
   "metadata": {},
   "outputs": [
    {
     "name": "stdout",
     "output_type": "stream",
     "text": [
      "RMSE: 0.5430525843713571\n",
      "R-squared: -0.14486926092265717\n",
      "Coefficient: -46.55034121785212\n",
      "Intercept: 1793.0556960423207\n"
     ]
    },
    {
     "ename": "ValueError",
     "evalue": "X has 1 features, but LinearRegression is expecting 3 features as input.",
     "output_type": "error",
     "traceback": [
      "\u001b[0;31m---------------------------------------------------------------------------\u001b[0m",
      "\u001b[0;31mValueError\u001b[0m                                Traceback (most recent call last)",
      "Cell \u001b[0;32mIn[28], line 32\u001b[0m\n\u001b[1;32m     30\u001b[0m \u001b[38;5;66;03m# Predicting with a new 3P% value\u001b[39;00m\n\u001b[1;32m     31\u001b[0m off_def \u001b[38;5;241m=\u001b[39m np\u001b[38;5;241m.\u001b[39marray([[\u001b[38;5;241m118.0\u001b[39m]])  \u001b[38;5;66;03m# Example 3P% value\u001b[39;00m\n\u001b[0;32m---> 32\u001b[0m predicted_pts \u001b[38;5;241m=\u001b[39m \u001b[43mmodel\u001b[49m\u001b[38;5;241;43m.\u001b[39;49m\u001b[43mpredict\u001b[49m\u001b[43m(\u001b[49m\u001b[43moff_def\u001b[49m\u001b[43m)\u001b[49m\n\u001b[1;32m     33\u001b[0m \u001b[38;5;28mprint\u001b[39m(\u001b[38;5;124mf\u001b[39m\u001b[38;5;124m\"\u001b[39m\u001b[38;5;124mPredicted Win/Loss Percent for offensive: 118.0: \u001b[39m\u001b[38;5;132;01m{\u001b[39;00mpredicted_pts[\u001b[38;5;241m0\u001b[39m]\u001b[38;5;132;01m}\u001b[39;00m\u001b[38;5;124m\"\u001b[39m)\n",
      "File \u001b[0;32m~/anaconda3/lib/python3.11/site-packages/sklearn/linear_model/_base.py:286\u001b[0m, in \u001b[0;36mLinearModel.predict\u001b[0;34m(self, X)\u001b[0m\n\u001b[1;32m    272\u001b[0m \u001b[38;5;28;01mdef\u001b[39;00m \u001b[38;5;21mpredict\u001b[39m(\u001b[38;5;28mself\u001b[39m, X):\n\u001b[1;32m    273\u001b[0m \u001b[38;5;250m    \u001b[39m\u001b[38;5;124;03m\"\"\"\u001b[39;00m\n\u001b[1;32m    274\u001b[0m \u001b[38;5;124;03m    Predict using the linear model.\u001b[39;00m\n\u001b[1;32m    275\u001b[0m \n\u001b[0;32m   (...)\u001b[0m\n\u001b[1;32m    284\u001b[0m \u001b[38;5;124;03m        Returns predicted values.\u001b[39;00m\n\u001b[1;32m    285\u001b[0m \u001b[38;5;124;03m    \"\"\"\u001b[39;00m\n\u001b[0;32m--> 286\u001b[0m     \u001b[38;5;28;01mreturn\u001b[39;00m \u001b[38;5;28;43mself\u001b[39;49m\u001b[38;5;241;43m.\u001b[39;49m\u001b[43m_decision_function\u001b[49m\u001b[43m(\u001b[49m\u001b[43mX\u001b[49m\u001b[43m)\u001b[49m\n",
      "File \u001b[0;32m~/anaconda3/lib/python3.11/site-packages/sklearn/linear_model/_base.py:269\u001b[0m, in \u001b[0;36mLinearModel._decision_function\u001b[0;34m(self, X)\u001b[0m\n\u001b[1;32m    266\u001b[0m \u001b[38;5;28;01mdef\u001b[39;00m \u001b[38;5;21m_decision_function\u001b[39m(\u001b[38;5;28mself\u001b[39m, X):\n\u001b[1;32m    267\u001b[0m     check_is_fitted(\u001b[38;5;28mself\u001b[39m)\n\u001b[0;32m--> 269\u001b[0m     X \u001b[38;5;241m=\u001b[39m \u001b[38;5;28;43mself\u001b[39;49m\u001b[38;5;241;43m.\u001b[39;49m\u001b[43m_validate_data\u001b[49m\u001b[43m(\u001b[49m\u001b[43mX\u001b[49m\u001b[43m,\u001b[49m\u001b[43m \u001b[49m\u001b[43maccept_sparse\u001b[49m\u001b[38;5;241;43m=\u001b[39;49m\u001b[43m[\u001b[49m\u001b[38;5;124;43m\"\u001b[39;49m\u001b[38;5;124;43mcsr\u001b[39;49m\u001b[38;5;124;43m\"\u001b[39;49m\u001b[43m,\u001b[49m\u001b[43m \u001b[49m\u001b[38;5;124;43m\"\u001b[39;49m\u001b[38;5;124;43mcsc\u001b[39;49m\u001b[38;5;124;43m\"\u001b[39;49m\u001b[43m,\u001b[49m\u001b[43m \u001b[49m\u001b[38;5;124;43m\"\u001b[39;49m\u001b[38;5;124;43mcoo\u001b[39;49m\u001b[38;5;124;43m\"\u001b[39;49m\u001b[43m]\u001b[49m\u001b[43m,\u001b[49m\u001b[43m \u001b[49m\u001b[43mreset\u001b[49m\u001b[38;5;241;43m=\u001b[39;49m\u001b[38;5;28;43;01mFalse\u001b[39;49;00m\u001b[43m)\u001b[49m\n\u001b[1;32m    270\u001b[0m     \u001b[38;5;28;01mreturn\u001b[39;00m safe_sparse_dot(X, \u001b[38;5;28mself\u001b[39m\u001b[38;5;241m.\u001b[39mcoef_\u001b[38;5;241m.\u001b[39mT, dense_output\u001b[38;5;241m=\u001b[39m\u001b[38;5;28;01mTrue\u001b[39;00m) \u001b[38;5;241m+\u001b[39m \u001b[38;5;28mself\u001b[39m\u001b[38;5;241m.\u001b[39mintercept_\n",
      "File \u001b[0;32m~/anaconda3/lib/python3.11/site-packages/sklearn/base.py:654\u001b[0m, in \u001b[0;36mBaseEstimator._validate_data\u001b[0;34m(self, X, y, reset, validate_separately, cast_to_ndarray, **check_params)\u001b[0m\n\u001b[1;32m    651\u001b[0m     out \u001b[38;5;241m=\u001b[39m X, y\n\u001b[1;32m    653\u001b[0m \u001b[38;5;28;01mif\u001b[39;00m \u001b[38;5;129;01mnot\u001b[39;00m no_val_X \u001b[38;5;129;01mand\u001b[39;00m check_params\u001b[38;5;241m.\u001b[39mget(\u001b[38;5;124m\"\u001b[39m\u001b[38;5;124mensure_2d\u001b[39m\u001b[38;5;124m\"\u001b[39m, \u001b[38;5;28;01mTrue\u001b[39;00m):\n\u001b[0;32m--> 654\u001b[0m     \u001b[38;5;28;43mself\u001b[39;49m\u001b[38;5;241;43m.\u001b[39;49m\u001b[43m_check_n_features\u001b[49m\u001b[43m(\u001b[49m\u001b[43mX\u001b[49m\u001b[43m,\u001b[49m\u001b[43m \u001b[49m\u001b[43mreset\u001b[49m\u001b[38;5;241;43m=\u001b[39;49m\u001b[43mreset\u001b[49m\u001b[43m)\u001b[49m\n\u001b[1;32m    656\u001b[0m \u001b[38;5;28;01mreturn\u001b[39;00m out\n",
      "File \u001b[0;32m~/anaconda3/lib/python3.11/site-packages/sklearn/base.py:443\u001b[0m, in \u001b[0;36mBaseEstimator._check_n_features\u001b[0;34m(self, X, reset)\u001b[0m\n\u001b[1;32m    440\u001b[0m     \u001b[38;5;28;01mreturn\u001b[39;00m\n\u001b[1;32m    442\u001b[0m \u001b[38;5;28;01mif\u001b[39;00m n_features \u001b[38;5;241m!=\u001b[39m \u001b[38;5;28mself\u001b[39m\u001b[38;5;241m.\u001b[39mn_features_in_:\n\u001b[0;32m--> 443\u001b[0m     \u001b[38;5;28;01mraise\u001b[39;00m \u001b[38;5;167;01mValueError\u001b[39;00m(\n\u001b[1;32m    444\u001b[0m         \u001b[38;5;124mf\u001b[39m\u001b[38;5;124m\"\u001b[39m\u001b[38;5;124mX has \u001b[39m\u001b[38;5;132;01m{\u001b[39;00mn_features\u001b[38;5;132;01m}\u001b[39;00m\u001b[38;5;124m features, but \u001b[39m\u001b[38;5;132;01m{\u001b[39;00m\u001b[38;5;28mself\u001b[39m\u001b[38;5;241m.\u001b[39m\u001b[38;5;18m__class__\u001b[39m\u001b[38;5;241m.\u001b[39m\u001b[38;5;18m__name__\u001b[39m\u001b[38;5;132;01m}\u001b[39;00m\u001b[38;5;124m \u001b[39m\u001b[38;5;124m\"\u001b[39m\n\u001b[1;32m    445\u001b[0m         \u001b[38;5;124mf\u001b[39m\u001b[38;5;124m\"\u001b[39m\u001b[38;5;124mis expecting \u001b[39m\u001b[38;5;132;01m{\u001b[39;00m\u001b[38;5;28mself\u001b[39m\u001b[38;5;241m.\u001b[39mn_features_in_\u001b[38;5;132;01m}\u001b[39;00m\u001b[38;5;124m features as input.\u001b[39m\u001b[38;5;124m\"\u001b[39m\n\u001b[1;32m    446\u001b[0m     )\n",
      "\u001b[0;31mValueError\u001b[0m: X has 1 features, but LinearRegression is expecting 3 features as input."
     ]
    }
   ],
   "source": [
    "data = merged\n",
    "\n",
    "# Step 2: Prepare the data\n",
    "X = data[['ORtg']]  # Predictor variable (reshape for a single feature)\n",
    "y = data['WinLossPercentage']  # Response variable\n",
    "poly_X = PolynomialFeatures(3, include_bias=False).fit_transform(X)\n",
    "\n",
    "# Split the data into training and testing sets (80% train, 20% test)\n",
    "X_train, X_test, y_train, y_test = train_test_split(poly_X, y, test_size=0.2, random_state=42)\n",
    "\n",
    "# Step 3: Create the model\n",
    "model = LinearRegression()\n",
    "\n",
    "# Step 4: Train the model\n",
    "model.fit(X_train, y_train)\n",
    "\n",
    "# Step 5: Evaluate the model\n",
    "predictions = model.predict(X_test)\n",
    "mse = mean_squared_error(y_test, predictions)\n",
    "rmse = np.sqrt(mse)\n",
    "r2 = r2_score(y_test, predictions)  # This is how you calculate R-squared\n",
    "print(f\"RMSE: {rmse}\")\n",
    "print(f\"R-squared: {r2}\")  # Print the R-squared value\n",
    "\n",
    "\n",
    "# Coefficients and Intercept\n",
    "print(f\"Coefficient: {model.coef_[0]}\")\n",
    "print(f\"Intercept: {model.intercept_}\")\n",
    "\n",
    "# Predicting with a new 3P% value\n",
    "off_def = np.array([[118.0]])  # Example 3P% value\n",
    "predicted_pts = model.predict(off_def)\n",
    "print(f\"Predicted Win/Loss Percent for offensive: 118.0: {predicted_pts[0]}\")"
   ]
  },
  {
   "cell_type": "markdown",
   "id": "70b45909-9cb3-4201-946e-6d581b70a3d5",
   "metadata": {},
   "source": [
    "### Offensive and Defensive Rating R-squared: 0.44 ###"
   ]
  },
  {
   "cell_type": "code",
   "execution_count": 37,
   "id": "50e4bf30-3db8-4bee-85e6-da76f1feab46",
   "metadata": {},
   "outputs": [
    {
     "name": "stdout",
     "output_type": "stream",
     "text": [
      "RMSE: 0.3786456121424626\n",
      "R-squared: 0.44340668972289266\n",
      "Coefficient: 0.13612600843346287\n",
      "Intercept: 0.28716517897835336\n",
      "Predicted Win/Loss Percent for offense: 118, defense: 111.5: 1.9109474052358095\n"
     ]
    }
   ],
   "source": [
    "data = merged\n",
    "\n",
    "# Step 2: Prepare the data\n",
    "X = data[['ORtg', 'DRtg']]  # Predictor variable (reshape for a single feature)\n",
    "y = data['WinLossPercentage']  # Response variable\n",
    "poly_X = PolynomialFeatures(1, include_bias=False).fit_transform(X)\n",
    "\n",
    "# Split the data into training and testing sets (80% train, 20% test)\n",
    "X_train, X_test, y_train, y_test = train_test_split(poly_X, y, test_size=0.2, random_state=42)\n",
    "\n",
    "# Step 3: Create the model\n",
    "model = LinearRegression()\n",
    "\n",
    "# Step 4: Train the model\n",
    "model.fit(X_train, y_train)\n",
    "\n",
    "# Step 5: Evaluate the model\n",
    "predictions = model.predict(X_test)\n",
    "mse = mean_squared_error(y_test, predictions)\n",
    "rmse = np.sqrt(mse)\n",
    "r2 = r2_score(y_test, predictions)  # This is how you calculate R-squared\n",
    "print(f\"RMSE: {rmse}\")\n",
    "print(f\"R-squared: {r2}\")  # Print the R-squared value\n",
    "\n",
    "\n",
    "# Coefficients and Intercept\n",
    "print(f\"Coefficient: {model.coef_[0]}\")\n",
    "print(f\"Intercept: {model.intercept_}\")\n",
    "\n",
    "# Predicting with a new 3P% value\n",
    "off_def = np.array([[118.0,111.5]])  # Example 3P% value\n",
    "#off_def = PolynomialFeatures(3, include_bias=False).fit_transform(off_def)\n",
    "predicted_pts = model.predict(off_def)\n",
    "print(f\"Predicted Win/Loss Percent for offense: 118, defense: 111.5: {predicted_pts[0]}\")"
   ]
  },
  {
   "cell_type": "markdown",
   "id": "24894a4a-29d6-4459-8f5a-da2834921afa",
   "metadata": {},
   "source": [
    "### SRS R-squared: 0.49 ###"
   ]
  },
  {
   "cell_type": "code",
   "execution_count": 38,
   "id": "4df84ed0-58eb-499b-b62a-106c8ae639b0",
   "metadata": {},
   "outputs": [
    {
     "name": "stdout",
     "output_type": "stream",
     "text": [
      "RMSE: 0.3604944627779787\n",
      "R-squared: 0.49549053085247285\n",
      "Coefficient: 0.1384155606339398\n",
      "Intercept: 1.0492121768942986\n"
     ]
    }
   ],
   "source": [
    "data = merged\n",
    "\n",
    "# Step 2: Prepare the data\n",
    "X = data[['SRS']]  # Predictor variable (reshape for a single feature)\n",
    "y = data['WinLossPercentage']  # Response variable\n",
    "poly_X = PolynomialFeatures(1, include_bias=False).fit_transform(X)\n",
    "\n",
    "# Split the data into training and testing sets (80% train, 20% test)\n",
    "X_train, X_test, y_train, y_test = train_test_split(poly_X, y, test_size=0.2, random_state=42)\n",
    "\n",
    "# Step 3: Create the model\n",
    "model = LinearRegression()\n",
    "\n",
    "# Step 4: Train the model\n",
    "model.fit(X_train, y_train)\n",
    "\n",
    "# Step 5: Evaluate the model\n",
    "predictions = model.predict(X_test)\n",
    "mse = mean_squared_error(y_test, predictions)\n",
    "rmse = np.sqrt(mse)\n",
    "r2 = r2_score(y_test, predictions)  # This is how you calculate R-squared\n",
    "print(f\"RMSE: {rmse}\")\n",
    "print(f\"R-squared: {r2}\")  # Print the R-squared value\n",
    "\n",
    "\n",
    "# Coefficients and Intercept\n",
    "print(f\"Coefficient: {model.coef_[0]}\")\n",
    "print(f\"Intercept: {model.intercept_}\")\n",
    "\n",
    "# Predicting with a new 3P% value\n",
    "#off_def = np.array([[118.0,111.5]])  # Example 3P% value\n",
    "#off_def = PolynomialFeatures(3, include_bias=False).fit_transform(off_def)\n",
    "#predicted_pts = model.predict(off_def)\n",
    "#print(f\"Predicted Win/Loss Percent for offense: 118, defense: 111.5: {predicted_pts[0]}\")"
   ]
  },
  {
   "cell_type": "markdown",
   "id": "374b8c15-7f66-4875-b4e3-fd296dbd3b78",
   "metadata": {},
   "source": [
    "### NRtg: R-squared: 0.45 ###"
   ]
  },
  {
   "cell_type": "code",
   "execution_count": 39,
   "id": "647e64c6-77fd-4f88-8107-49d023b2aeb8",
   "metadata": {},
   "outputs": [
    {
     "name": "stdout",
     "output_type": "stream",
     "text": [
      "RMSE: 0.3749670686615249\n",
      "R-squared: 0.45416876973958153\n",
      "Coefficient: 0.13313244420983103\n",
      "Intercept: 1.0478406747679347\n"
     ]
    }
   ],
   "source": [
    "data = merged\n",
    "\n",
    "# Step 2: Prepare the data\n",
    "X = data[['NRtg']]  # Predictor variable (reshape for a single feature)\n",
    "y = data['WinLossPercentage']  # Response variable\n",
    "poly_X = PolynomialFeatures(1, include_bias=False).fit_transform(X)\n",
    "\n",
    "# Split the data into training and testing sets (80% train, 20% test)\n",
    "X_train, X_test, y_train, y_test = train_test_split(poly_X, y, test_size=0.2, random_state=42)\n",
    "\n",
    "# Step 3: Create the model\n",
    "model = LinearRegression()\n",
    "\n",
    "# Step 4: Train the model\n",
    "model.fit(X_train, y_train)\n",
    "\n",
    "# Step 5: Evaluate the model\n",
    "predictions = model.predict(X_test)\n",
    "mse = mean_squared_error(y_test, predictions)\n",
    "rmse = np.sqrt(mse)\n",
    "r2 = r2_score(y_test, predictions)  # This is how you calculate R-squared\n",
    "print(f\"RMSE: {rmse}\")\n",
    "print(f\"R-squared: {r2}\")  # Print the R-squared value\n",
    "\n",
    "\n",
    "# Coefficients and Intercept\n",
    "print(f\"Coefficient: {model.coef_[0]}\")\n",
    "print(f\"Intercept: {model.intercept_}\")\n",
    "\n",
    "# Predicting with a new 3P% value\n",
    "#off_def = np.array([[118.0,111.5]])  # Example 3P% value\n",
    "#off_def = PolynomialFeatures(3, include_bias=False).fit_transform(off_def)\n",
    "#predicted_pts = model.predict(off_def)\n",
    "#print(f\"Predicted Win/Loss Percent for offense: 118, defense: 111.5: {predicted_pts[0]}\")"
   ]
  },
  {
   "cell_type": "markdown",
   "id": "0369997b-ee19-4f1e-aaa2-d1a9dd9c7268",
   "metadata": {},
   "source": [
    "### TSpercent: R-squared: -0.178 ###"
   ]
  },
  {
   "cell_type": "code",
   "execution_count": 40,
   "id": "36cd6962-41f5-4508-a9ab-82c26b33e1ac",
   "metadata": {},
   "outputs": [
    {
     "name": "stdout",
     "output_type": "stream",
     "text": [
      "RMSE: 0.5509285342103977\n",
      "R-squared: -0.1783183960695338\n",
      "Coefficient: 15.422539804270015\n",
      "Intercept: -7.838438098920609\n"
     ]
    }
   ],
   "source": [
    "data = merged\n",
    "\n",
    "# Step 2: Prepare the data\n",
    "X = data[['TS%']]  # Predictor variable (reshape for a single feature)\n",
    "y = data['WinLossPercentage']  # Response variable\n",
    "poly_X = PolynomialFeatures(1, include_bias=False).fit_transform(X)\n",
    "\n",
    "# Split the data into training and testing sets (80% train, 20% test)\n",
    "X_train, X_test, y_train, y_test = train_test_split(poly_X, y, test_size=0.2, random_state=42)\n",
    "\n",
    "# Step 3: Create the model\n",
    "model = LinearRegression()\n",
    "\n",
    "# Step 4: Train the model\n",
    "model.fit(X_train, y_train)\n",
    "\n",
    "# Step 5: Evaluate the model\n",
    "predictions = model.predict(X_test)\n",
    "mse = mean_squared_error(y_test, predictions)\n",
    "rmse = np.sqrt(mse)\n",
    "r2 = r2_score(y_test, predictions)  # This is how you calculate R-squared\n",
    "print(f\"RMSE: {rmse}\")\n",
    "print(f\"R-squared: {r2}\")  # Print the R-squared value\n",
    "\n",
    "\n",
    "# Coefficients and Intercept\n",
    "print(f\"Coefficient: {model.coef_[0]}\")\n",
    "print(f\"Intercept: {model.intercept_}\")\n",
    "\n",
    "# Predicting with a new 3P% value\n",
    "#off_def = np.array([[118.0,111.5]])  # Example 3P% value\n",
    "#off_def = PolynomialFeatures(3, include_bias=False).fit_transform(off_def)\n",
    "#predicted_pts = model.predict(off_def)\n",
    "#print(f\"Predicted Win/Loss Percent for offense: 118, defense: 111.5: {predicted_pts[0]}\")"
   ]
  }
 ],
 "metadata": {
  "kernelspec": {
   "display_name": "Python 3 (ipykernel)",
   "language": "python",
   "name": "python3"
  },
  "language_info": {
   "codemirror_mode": {
    "name": "ipython",
    "version": 3
   },
   "file_extension": ".py",
   "mimetype": "text/x-python",
   "name": "python",
   "nbconvert_exporter": "python",
   "pygments_lexer": "ipython3",
   "version": "3.11.8"
  }
 },
 "nbformat": 4,
 "nbformat_minor": 5
}
