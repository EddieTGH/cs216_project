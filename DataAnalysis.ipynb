{
 "cells": [
  {
   "cell_type": "code",
   "execution_count": 1,
   "id": "163402ad-3dcb-4505-91e6-0fe8e9d96cfe",
   "metadata": {},
   "outputs": [],
   "source": [
    "import numpy as np\n",
    "import pandas as pd\n",
    "import seaborn as sns\n",
    "sns.set_theme()"
   ]
  },
  {
   "cell_type": "code",
   "execution_count": 2,
   "id": "c5a2dcc7-1551-4e10-82ef-6c983e2fcea6",
   "metadata": {},
   "outputs": [
    {
     "data": {
      "text/html": [
       "<div>\n",
       "<style scoped>\n",
       "    .dataframe tbody tr th:only-of-type {\n",
       "        vertical-align: middle;\n",
       "    }\n",
       "\n",
       "    .dataframe tbody tr th {\n",
       "        vertical-align: top;\n",
       "    }\n",
       "\n",
       "    .dataframe thead th {\n",
       "        text-align: right;\n",
       "    }\n",
       "</style>\n",
       "<table border=\"1\" class=\"dataframe\">\n",
       "  <thead>\n",
       "    <tr style=\"text-align: right;\">\n",
       "      <th></th>\n",
       "      <th>Franchise</th>\n",
       "      <th>Lg</th>\n",
       "      <th>From</th>\n",
       "      <th>To</th>\n",
       "      <th>Yrs</th>\n",
       "      <th>G</th>\n",
       "      <th>W</th>\n",
       "      <th>L</th>\n",
       "      <th>W/L%</th>\n",
       "      <th>Plyfs</th>\n",
       "      <th>Div</th>\n",
       "      <th>Conf</th>\n",
       "      <th>Champ</th>\n",
       "    </tr>\n",
       "  </thead>\n",
       "  <tbody>\n",
       "    <tr>\n",
       "      <th>0</th>\n",
       "      <td>Atlanta Hawks</td>\n",
       "      <td>NBA</td>\n",
       "      <td>1949-50</td>\n",
       "      <td>2023-24</td>\n",
       "      <td>75</td>\n",
       "      <td>5928</td>\n",
       "      <td>2925</td>\n",
       "      <td>3003</td>\n",
       "      <td>0.493</td>\n",
       "      <td>49</td>\n",
       "      <td>12</td>\n",
       "      <td>0</td>\n",
       "      <td>1</td>\n",
       "    </tr>\n",
       "    <tr>\n",
       "      <th>1</th>\n",
       "      <td>Atlanta Hawks</td>\n",
       "      <td>NBA</td>\n",
       "      <td>1968-69</td>\n",
       "      <td>2023-24</td>\n",
       "      <td>56</td>\n",
       "      <td>4510</td>\n",
       "      <td>2227</td>\n",
       "      <td>2283</td>\n",
       "      <td>0.494</td>\n",
       "      <td>36</td>\n",
       "      <td>6</td>\n",
       "      <td>0</td>\n",
       "      <td>0</td>\n",
       "    </tr>\n",
       "    <tr>\n",
       "      <th>2</th>\n",
       "      <td>St. Louis Hawks</td>\n",
       "      <td>NBA</td>\n",
       "      <td>1955-56</td>\n",
       "      <td>1967-68</td>\n",
       "      <td>13</td>\n",
       "      <td>1005</td>\n",
       "      <td>553</td>\n",
       "      <td>452</td>\n",
       "      <td>0.550</td>\n",
       "      <td>12</td>\n",
       "      <td>6</td>\n",
       "      <td>0</td>\n",
       "      <td>1</td>\n",
       "    </tr>\n",
       "    <tr>\n",
       "      <th>3</th>\n",
       "      <td>Milwaukee Hawks</td>\n",
       "      <td>NBA</td>\n",
       "      <td>1951-52</td>\n",
       "      <td>1954-55</td>\n",
       "      <td>4</td>\n",
       "      <td>281</td>\n",
       "      <td>91</td>\n",
       "      <td>190</td>\n",
       "      <td>0.324</td>\n",
       "      <td>0</td>\n",
       "      <td>0</td>\n",
       "      <td>0</td>\n",
       "      <td>0</td>\n",
       "    </tr>\n",
       "    <tr>\n",
       "      <th>4</th>\n",
       "      <td>Tri-Cities Blackhawks</td>\n",
       "      <td>NBA</td>\n",
       "      <td>1949-50</td>\n",
       "      <td>1950-51</td>\n",
       "      <td>2</td>\n",
       "      <td>132</td>\n",
       "      <td>54</td>\n",
       "      <td>78</td>\n",
       "      <td>0.409</td>\n",
       "      <td>1</td>\n",
       "      <td>0</td>\n",
       "      <td>0</td>\n",
       "      <td>0</td>\n",
       "    </tr>\n",
       "  </tbody>\n",
       "</table>\n",
       "</div>"
      ],
      "text/plain": [
       "               Franchise   Lg     From       To  Yrs     G     W     L   W/L%  \\\n",
       "0          Atlanta Hawks  NBA  1949-50  2023-24   75  5928  2925  3003  0.493   \n",
       "1          Atlanta Hawks  NBA  1968-69  2023-24   56  4510  2227  2283  0.494   \n",
       "2        St. Louis Hawks  NBA  1955-56  1967-68   13  1005   553   452  0.550   \n",
       "3        Milwaukee Hawks  NBA  1951-52  1954-55    4   281    91   190  0.324   \n",
       "4  Tri-Cities Blackhawks  NBA  1949-50  1950-51    2   132    54    78  0.409   \n",
       "\n",
       "   Plyfs  Div  Conf  Champ  \n",
       "0     49   12     0      1  \n",
       "1     36    6     0      0  \n",
       "2     12    6     0      1  \n",
       "3      0    0     0      0  \n",
       "4      1    0     0      0  "
      ]
     },
     "execution_count": 2,
     "metadata": {},
     "output_type": "execute_result"
    }
   ],
   "source": [
    "team_stats = pd.read_csv(\"team_stats.csv\")\n",
    "team_stats.head()"
   ]
  },
  {
   "cell_type": "code",
   "execution_count": 3,
   "id": "d0d383fc-d52b-4d9d-8e17-2ab52b9fb16b",
   "metadata": {},
   "outputs": [
    {
     "name": "stdout",
     "output_type": "stream",
     "text": [
      "1.4.1.post1\n"
     ]
    }
   ],
   "source": [
    "try:\n",
    "    import sklearn\n",
    "    print(sklearn.__version__)\n",
    "    if (sklearn.__version__ < '1.3.0'): #update for latest scikit-learn version\n",
    "        !pip install -U --user scikit-learn\n",
    "except Exception as e:\n",
    "    !pip install scikit-learn"
   ]
  },
  {
   "cell_type": "code",
   "execution_count": 4,
   "id": "f7ae8546-beb6-46b3-bf6f-91d6a9ea28f3",
   "metadata": {},
   "outputs": [],
   "source": [
    "from sklearn.linear_model import LinearRegression\n",
    "from sklearn.metrics import mean_squared_error\n",
    "from sklearn.metrics import r2_score\n",
    "from sklearn.dummy import DummyClassifier"
   ]
  },
  {
   "cell_type": "code",
   "execution_count": null,
   "id": "39a54d62-15a0-4c7f-8f67-9b9251b0a95e",
   "metadata": {},
   "outputs": [],
   "source": []
  }
 ],
 "metadata": {
  "kernelspec": {
   "display_name": "Python 3 (ipykernel)",
   "language": "python",
   "name": "python3"
  },
  "language_info": {
   "codemirror_mode": {
    "name": "ipython",
    "version": 3
   },
   "file_extension": ".py",
   "mimetype": "text/x-python",
   "name": "python",
   "nbconvert_exporter": "python",
   "pygments_lexer": "ipython3",
   "version": "3.11.5"
  }
 },
 "nbformat": 4,
 "nbformat_minor": 5
}
