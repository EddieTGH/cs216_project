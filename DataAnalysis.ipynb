{
 "cells": [
  {
   "cell_type": "code",
   "execution_count": 1,
   "id": "163402ad-3dcb-4505-91e6-0fe8e9d96cfe",
   "metadata": {},
   "outputs": [],
   "source": [
    "import numpy as np\n",
    "import pandas as pd\n",
    "import seaborn as sns\n",
    "sns.set_theme()"
   ]
  },
  {
   "cell_type": "code",
   "execution_count": 29,
   "id": "c5a2dcc7-1551-4e10-82ef-6c983e2fcea6",
   "metadata": {},
   "outputs": [],
   "source": [
    "#import and clean datasets\n",
    "advanced = pd.read_csv(\"advanced.csv\", header = 1, index_col=1).iloc[1:].dropna(axis=1, how='all')\n",
    "per_game = pd.read_csv('per_game.csv', index_col=1)\n",
    "standings = pd.read_csv('standings.csv', header = 1, index_col=1)\n",
    "\n",
    "#merge datasets\n",
    "##TODO: merge datasets for all three\n",
    "##TODO: rename columns in standings dataset. Add conference/division labels to colums\n",
    "merged = standings.merge(per_game)"
   ]
  },
  {
   "cell_type": "code",
   "execution_count": 3,
   "id": "d0d383fc-d52b-4d9d-8e17-2ab52b9fb16b",
   "metadata": {},
   "outputs": [
    {
     "name": "stdout",
     "output_type": "stream",
     "text": [
      "1.4.1.post1\n"
     ]
    }
   ],
   "source": [
    "try:\n",
    "    import sklearn\n",
    "    print(sklearn.__version__)\n",
    "    if (sklearn.__version__ < '1.3.0'): #update for latest scikit-learn version\n",
    "        !pip install -U --user scikit-learn\n",
    "except Exception as e:\n",
    "    !pip install scikit-learn"
   ]
  },
  {
   "cell_type": "code",
   "execution_count": 32,
   "id": "f7ae8546-beb6-46b3-bf6f-91d6a9ea28f3",
   "metadata": {},
   "outputs": [],
   "source": [
    "from sklearn.linear_model import LinearRegression\n",
    "from sklearn.model_selection import train_test_split\n",
    "from sklearn.metrics import mean_squared_error\n",
    "from sklearn.metrics import r2_score\n",
    "from sklearn.dummy import DummyClassifier"
   ]
  },
  {
   "cell_type": "code",
   "execution_count": 33,
   "id": "39a54d62-15a0-4c7f-8f67-9b9251b0a95e",
   "metadata": {},
   "outputs": [
    {
     "name": "stdout",
     "output_type": "stream",
     "text": [
      "RMSE: 1.6073438153266384\n",
      "Coefficient: 78.23722845084282\n",
      "Intercept: 86.61903282324813\n",
      "Predicted PTS for 3P% = 0.35: 114.00206278104312\n"
     ]
    },
    {
     "name": "stderr",
     "output_type": "stream",
     "text": [
      "C:\\Users\\joshu\\AppData\\Roaming\\Python\\Python311\\site-packages\\sklearn\\base.py:493: UserWarning: X does not have valid feature names, but LinearRegression was fitted with feature names\n",
      "  warnings.warn(\n"
     ]
    }
   ],
   "source": [
    "data = merged\n",
    "\n",
    "# Step 2: Prepare the data\n",
    "X = data[['3P%']]  # Predictor variable (reshape for a single feature)\n",
    "y = data['PTS']  # Response variable\n",
    "\n",
    "# Split the data into training and testing sets (80% train, 20% test)\n",
    "X_train, X_test, y_train, y_test = train_test_split(X, y, test_size=0.2, random_state=42)\n",
    "\n",
    "# Step 3: Create the model\n",
    "model = LinearRegression()\n",
    "\n",
    "# Step 4: Train the model\n",
    "model.fit(X_train, y_train)\n",
    "\n",
    "# Step 5: Evaluate the model\n",
    "predictions = model.predict(X_test)\n",
    "mse = mean_squared_error(y_test, predictions)\n",
    "rmse = np.sqrt(mse)\n",
    "print(f\"RMSE: {rmse}\")\n",
    "\n",
    "# Coefficients and Intercept\n",
    "print(f\"Coefficient: {model.coef_[0]}\")\n",
    "print(f\"Intercept: {model.intercept_}\")\n",
    "\n",
    "# Predicting with a new 3P% value\n",
    "new_3P = np.array([[0.35]])  # Example 3P% value\n",
    "predicted_pts = model.predict(new_3P)\n",
    "print(f\"Predicted PTS for 3P% = 0.35: {predicted_pts[0]}\")"
   ]
  },
  {
   "cell_type": "code",
   "execution_count": null,
   "id": "f75c46d2-2506-4b99-8b9b-00d985c2ae0a",
   "metadata": {},
   "outputs": [],
   "source": []
  }
 ],
 "metadata": {
  "kernelspec": {
   "display_name": "Python 3 (ipykernel)",
   "language": "python",
   "name": "python3"
  },
  "language_info": {
   "codemirror_mode": {
    "name": "ipython",
    "version": 3
   },
   "file_extension": ".py",
   "mimetype": "text/x-python",
   "name": "python",
   "nbconvert_exporter": "python",
   "pygments_lexer": "ipython3",
   "version": "3.11.5"
  }
 },
 "nbformat": 4,
 "nbformat_minor": 5
}
