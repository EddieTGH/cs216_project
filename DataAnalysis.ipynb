{
 "cells": [
  {
   "cell_type": "code",
   "execution_count": null,
   "id": "163402ad-3dcb-4505-91e6-0fe8e9d96cfe",
   "metadata": {},
   "outputs": [],
   "source": [
    "import numpy as np\n",
    "import pandas as pd\n",
    "import seaborn as sns\n",
    "sns.set_theme()"
   ]
  },
  {
   "cell_type": "code",
   "execution_count": null,
   "id": "c5a2dcc7-1551-4e10-82ef-6c983e2fcea6",
   "metadata": {},
   "outputs": [],
   "source": [
    "team_stats = pd.read_csv(\"team_stats.csv\")\n",
    "team_stats.head()"
   ]
  },
  {
   "cell_type": "code",
   "execution_count": null,
   "id": "d0d383fc-d52b-4d9d-8e17-2ab52b9fb16b",
   "metadata": {},
   "outputs": [],
   "source": [
    "try:\n",
    "    import sklearn\n",
    "    print(sklearn.__version__)\n",
    "    if (sklearn.__version__ < '1.3.0'): #update for latest scikit-learn version\n",
    "        !pip install -U --user scikit-learn\n",
    "except Exception as e:\n",
    "    !pip install scikit-learn"
   ]
  },
  {
   "cell_type": "code",
   "execution_count": null,
   "id": "f7ae8546-beb6-46b3-bf6f-91d6a9ea28f3",
   "metadata": {},
   "outputs": [],
   "source": [
    "from sklearn.linear_model import LinearRegression\n",
    "from sklearn.metrics import mean_squared_error\n",
    "from sklearn.metrics import r2_score\n",
    "from sklearn.dummy import DummyClassifier"
   ]
  },
  {
   "cell_type": "code",
   "execution_count": null,
   "id": "39a54d62-15a0-4c7f-8f67-9b9251b0a95e",
   "metadata": {},
   "outputs": [],
   "source": []
  }
 ],
 "metadata": {
  "kernelspec": {
   "display_name": "Python 3 (ipykernel)",
   "language": "python",
   "name": "python3"
  },
  "language_info": {
   "codemirror_mode": {
    "name": "ipython",
    "version": 3
   },
   "file_extension": ".py",
   "mimetype": "text/x-python",
   "name": "python",
   "nbconvert_exporter": "python",
   "pygments_lexer": "ipython3",
   "version": "3.11.8"
  }
 },
 "nbformat": 4,
 "nbformat_minor": 5
}
